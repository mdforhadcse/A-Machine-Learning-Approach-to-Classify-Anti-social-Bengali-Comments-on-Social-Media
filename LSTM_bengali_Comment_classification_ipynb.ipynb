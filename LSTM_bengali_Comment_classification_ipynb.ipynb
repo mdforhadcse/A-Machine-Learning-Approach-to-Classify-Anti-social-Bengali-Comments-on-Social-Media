{
  "nbformat": 4,
  "nbformat_minor": 0,
  "metadata": {
    "colab": {
      "name": "LSTM bengali Comment classification.ipynb.ipynb",
      "provenance": [],
      "collapsed_sections": []
    },
    "kernelspec": {
      "name": "python3",
      "display_name": "Python 3"
    },
    "accelerator": "GPU"
  },
  "cells": [
    {
      "cell_type": "code",
      "metadata": {
        "id": "0X_E_-yNyM78",
        "colab": {
          "base_uri": "https://localhost:8080/"
        },
        "outputId": "35e9d2f5-8bfd-4ee8-fb48-c7828c191a65"
      },
      "source": [
        "from google.colab import drive\n",
        "drive.mount('/content/drive')"
      ],
      "execution_count": null,
      "outputs": [
        {
          "output_type": "stream",
          "text": [
            "Mounted at /content/drive\n"
          ],
          "name": "stdout"
        }
      ]
    },
    {
      "cell_type": "markdown",
      "metadata": {
        "id": "5xAgmr1MywtI"
      },
      "source": [
        "#Libraries"
      ]
    },
    {
      "cell_type": "code",
      "metadata": {
        "id": "IcuDgC3VyzTa"
      },
      "source": [
        "import numpy as np\n",
        "import matplotlib.pyplot as plt\n",
        "%matplotlib inline\n",
        "import pandas as pd\n",
        "import seaborn as sns\n",
        "import re,nltk,json, pickle\n",
        "import tensorflow as tf\n",
        "from tensorflow import keras\n",
        "from tensorflow.keras import regularizers\n",
        "from tensorflow.keras.preprocessing.sequence import pad_sequences\n",
        "from tensorflow.keras.layers import LSTM,GRU\n",
        "from tensorflow.keras.models import load_model\n",
        "from sklearn.metrics import confusion_matrix\n",
        "from sklearn.metrics import classification_report \n",
        "from sklearn.model_selection import train_test_split\n",
        "from sklearn.metrics import accuracy_score,precision_score,recall_score,f1_score,roc_auc_score\n",
        "from sklearn.preprocessing import LabelEncoder\n",
        "from tensorflow.keras.preprocessing.text import Tokenizer\n",
        "np.random.seed(42)\n",
        "class color: # Text style\n",
        "   PURPLE = '\\033[95m'\n",
        "   CYAN = '\\033[96m'\n",
        "   DARKCYAN = '\\033[36m'\n",
        "   BLUE = '\\033[94m'\n",
        "   GREEN = '\\033[92m'\n",
        "   YELLOW = '\\033[93m'\n",
        "   RED = '\\033[91m'\n",
        "   BOLD = '\\033[1m'\n",
        "   UNDERLINE = '\\033[4m'\n",
        "   END = '\\033[0m'\n",
        "# Warnings\n",
        "import warnings\n",
        "warnings.simplefilter(action='ignore', category=FutureWarning)\n",
        "# dataset path\n",
        "dataset_path = '/content/drive/MyDrive/NLP ML/LSTM-CNNBengali-Document-Categorization-master/'\n",
        "path = '/content/drive/MyDrive/NLP ML/LSTM-CNNBengali-Document-Categorization-master/model'\n"
      ],
      "execution_count": null,
      "outputs": []
    },
    {
      "cell_type": "code",
      "metadata": {
        "id": "ppsGUWZZj3ND",
        "colab": {
          "base_uri": "https://localhost:8080/"
        },
        "outputId": "632ca57d-7f63-4da2-ec50-0e525a1a8b6a"
      },
      "source": [
        "!pip install tensorflow"
      ],
      "execution_count": null,
      "outputs": [
        {
          "output_type": "stream",
          "text": [
            "Requirement already satisfied: tensorflow in /usr/local/lib/python3.7/dist-packages (2.1.0)\n",
            "Requirement already satisfied: wheel>=0.26 in /usr/local/lib/python3.7/dist-packages (from tensorflow) (0.37.0)\n",
            "Requirement already satisfied: astor>=0.6.0 in /usr/local/lib/python3.7/dist-packages (from tensorflow) (0.8.1)\n",
            "Requirement already satisfied: keras-preprocessing>=1.1.0 in /usr/local/lib/python3.7/dist-packages (from tensorflow) (1.1.2)\n",
            "Requirement already satisfied: tensorflow-estimator<2.2.0,>=2.1.0rc0 in /usr/local/lib/python3.7/dist-packages (from tensorflow) (2.1.0)\n",
            "Requirement already satisfied: gast==0.2.2 in /usr/local/lib/python3.7/dist-packages (from tensorflow) (0.2.2)\n",
            "Requirement already satisfied: wrapt>=1.11.1 in /usr/local/lib/python3.7/dist-packages (from tensorflow) (1.12.1)\n",
            "Requirement already satisfied: absl-py>=0.7.0 in /usr/local/lib/python3.7/dist-packages (from tensorflow) (0.12.0)\n",
            "Requirement already satisfied: protobuf>=3.8.0 in /usr/local/lib/python3.7/dist-packages (from tensorflow) (3.17.3)\n",
            "Requirement already satisfied: tensorboard<2.2.0,>=2.1.0 in /usr/local/lib/python3.7/dist-packages (from tensorflow) (2.1.1)\n",
            "Requirement already satisfied: google-pasta>=0.1.6 in /usr/local/lib/python3.7/dist-packages (from tensorflow) (0.2.0)\n",
            "Requirement already satisfied: opt-einsum>=2.3.2 in /usr/local/lib/python3.7/dist-packages (from tensorflow) (3.3.0)\n",
            "Requirement already satisfied: keras-applications>=1.0.8 in /usr/local/lib/python3.7/dist-packages (from tensorflow) (1.0.8)\n",
            "Requirement already satisfied: numpy<2.0,>=1.16.0 in /usr/local/lib/python3.7/dist-packages (from tensorflow) (1.19.5)\n",
            "Requirement already satisfied: six>=1.12.0 in /usr/local/lib/python3.7/dist-packages (from tensorflow) (1.15.0)\n",
            "Requirement already satisfied: termcolor>=1.1.0 in /usr/local/lib/python3.7/dist-packages (from tensorflow) (1.1.0)\n",
            "Requirement already satisfied: scipy==1.4.1 in /usr/local/lib/python3.7/dist-packages (from tensorflow) (1.4.1)\n",
            "Requirement already satisfied: grpcio>=1.8.6 in /usr/local/lib/python3.7/dist-packages (from tensorflow) (1.39.0)\n",
            "Requirement already satisfied: h5py in /usr/local/lib/python3.7/dist-packages (from keras-applications>=1.0.8->tensorflow) (3.1.0)\n",
            "Requirement already satisfied: werkzeug>=0.11.15 in /usr/local/lib/python3.7/dist-packages (from tensorboard<2.2.0,>=2.1.0->tensorflow) (1.0.1)\n",
            "Requirement already satisfied: markdown>=2.6.8 in /usr/local/lib/python3.7/dist-packages (from tensorboard<2.2.0,>=2.1.0->tensorflow) (3.3.4)\n",
            "Requirement already satisfied: requests<3,>=2.21.0 in /usr/local/lib/python3.7/dist-packages (from tensorboard<2.2.0,>=2.1.0->tensorflow) (2.23.0)\n",
            "Requirement already satisfied: setuptools>=41.0.0 in /usr/local/lib/python3.7/dist-packages (from tensorboard<2.2.0,>=2.1.0->tensorflow) (57.4.0)\n",
            "Requirement already satisfied: google-auth-oauthlib<0.5,>=0.4.1 in /usr/local/lib/python3.7/dist-packages (from tensorboard<2.2.0,>=2.1.0->tensorflow) (0.4.5)\n",
            "Requirement already satisfied: google-auth<2,>=1.6.3 in /usr/local/lib/python3.7/dist-packages (from tensorboard<2.2.0,>=2.1.0->tensorflow) (1.34.0)\n",
            "Requirement already satisfied: rsa<5,>=3.1.4 in /usr/local/lib/python3.7/dist-packages (from google-auth<2,>=1.6.3->tensorboard<2.2.0,>=2.1.0->tensorflow) (4.7.2)\n",
            "Requirement already satisfied: cachetools<5.0,>=2.0.0 in /usr/local/lib/python3.7/dist-packages (from google-auth<2,>=1.6.3->tensorboard<2.2.0,>=2.1.0->tensorflow) (4.2.2)\n",
            "Requirement already satisfied: pyasn1-modules>=0.2.1 in /usr/local/lib/python3.7/dist-packages (from google-auth<2,>=1.6.3->tensorboard<2.2.0,>=2.1.0->tensorflow) (0.2.8)\n",
            "Requirement already satisfied: requests-oauthlib>=0.7.0 in /usr/local/lib/python3.7/dist-packages (from google-auth-oauthlib<0.5,>=0.4.1->tensorboard<2.2.0,>=2.1.0->tensorflow) (1.3.0)\n",
            "Requirement already satisfied: importlib-metadata in /usr/local/lib/python3.7/dist-packages (from markdown>=2.6.8->tensorboard<2.2.0,>=2.1.0->tensorflow) (4.6.4)\n",
            "Requirement already satisfied: pyasn1<0.5.0,>=0.4.6 in /usr/local/lib/python3.7/dist-packages (from pyasn1-modules>=0.2.1->google-auth<2,>=1.6.3->tensorboard<2.2.0,>=2.1.0->tensorflow) (0.4.8)\n",
            "Requirement already satisfied: chardet<4,>=3.0.2 in /usr/local/lib/python3.7/dist-packages (from requests<3,>=2.21.0->tensorboard<2.2.0,>=2.1.0->tensorflow) (3.0.4)\n",
            "Requirement already satisfied: idna<3,>=2.5 in /usr/local/lib/python3.7/dist-packages (from requests<3,>=2.21.0->tensorboard<2.2.0,>=2.1.0->tensorflow) (2.10)\n",
            "Requirement already satisfied: urllib3!=1.25.0,!=1.25.1,<1.26,>=1.21.1 in /usr/local/lib/python3.7/dist-packages (from requests<3,>=2.21.0->tensorboard<2.2.0,>=2.1.0->tensorflow) (1.24.3)\n",
            "Requirement already satisfied: certifi>=2017.4.17 in /usr/local/lib/python3.7/dist-packages (from requests<3,>=2.21.0->tensorboard<2.2.0,>=2.1.0->tensorflow) (2021.5.30)\n",
            "Requirement already satisfied: oauthlib>=3.0.0 in /usr/local/lib/python3.7/dist-packages (from requests-oauthlib>=0.7.0->google-auth-oauthlib<0.5,>=0.4.1->tensorboard<2.2.0,>=2.1.0->tensorflow) (3.1.1)\n",
            "Requirement already satisfied: cached-property in /usr/local/lib/python3.7/dist-packages (from h5py->keras-applications>=1.0.8->tensorflow) (1.5.2)\n",
            "Requirement already satisfied: typing-extensions>=3.6.4 in /usr/local/lib/python3.7/dist-packages (from importlib-metadata->markdown>=2.6.8->tensorboard<2.2.0,>=2.1.0->tensorflow) (3.7.4.3)\n",
            "Requirement already satisfied: zipp>=0.5 in /usr/local/lib/python3.7/dist-packages (from importlib-metadata->markdown>=2.6.8->tensorboard<2.2.0,>=2.1.0->tensorflow) (3.5.0)\n"
          ],
          "name": "stdout"
        }
      ]
    },
    {
      "cell_type": "code",
      "metadata": {
        "id": "hRqs5vc0lGH6",
        "colab": {
          "base_uri": "https://localhost:8080/"
        },
        "outputId": "72660c3a-bb89-476d-f506-b8126365a432"
      },
      "source": [
        "import tensorflow as tf\n",
        "print(tf.__version__)"
      ],
      "execution_count": null,
      "outputs": [
        {
          "output_type": "stream",
          "text": [
            "2.6.0\n"
          ],
          "name": "stdout"
        }
      ]
    },
    {
      "cell_type": "code",
      "metadata": {
        "id": "kkM55uTsc4se",
        "colab": {
          "base_uri": "https://localhost:8080/"
        },
        "outputId": "84556fd0-5604-4ed2-8514-6aa8dd1be3cc"
      },
      "source": [
        "print(tf.keras.__version__)"
      ],
      "execution_count": null,
      "outputs": [
        {
          "output_type": "stream",
          "text": [
            "2.6.0\n"
          ],
          "name": "stdout"
        }
      ]
    },
    {
      "cell_type": "markdown",
      "metadata": {
        "id": "eXQTUfnozI20"
      },
      "source": [
        "#Importing Dataset"
      ]
    },
    {
      "cell_type": "code",
      "metadata": {
        "id": "fD0awvBrzLVY",
        "colab": {
          "base_uri": "https://localhost:8080/"
        },
        "outputId": "bb072ecf-a881-486a-b9ce-8148d05e474d"
      },
      "source": [
        "# Read the data\n",
        "data = pd.read_csv('https://raw.githubusercontent.com/mdforhadcse/Bangla_Comments_Dataset/main/Final.csv',encoding='utf-8')\n",
        "print(f'Total number of Documents: {len(data)}')\n"
      ],
      "execution_count": null,
      "outputs": [
        {
          "output_type": "stream",
          "text": [
            "Total number of Documents: 7030\n"
          ],
          "name": "stdout"
        }
      ]
    },
    {
      "cell_type": "code",
      "metadata": {
        "colab": {
          "base_uri": "https://localhost:8080/"
        },
        "id": "WViXKFLkAlzY",
        "outputId": "495d2d6c-b9fa-422d-d609-63b6e261b13e"
      },
      "source": [
        "data.columns"
      ],
      "execution_count": null,
      "outputs": [
        {
          "output_type": "execute_result",
          "data": {
            "text/plain": [
              "Index(['No.', 'Social_acceptance', 'Comment'], dtype='object')"
            ]
          },
          "metadata": {},
          "execution_count": 43
        }
      ]
    },
    {
      "cell_type": "code",
      "metadata": {
        "id": "Of-9xsPxzdvm",
        "colab": {
          "base_uri": "https://localhost:8080/",
          "height": 438
        },
        "outputId": "5959cb39-c5cd-4185-deaa-c287e0040bd8"
      },
      "source": [
        "# Plot the Class distribution\n",
        "sns.set(font_scale=1.4)\n",
        "data['Social_acceptance'].value_counts().plot(kind='barh', figsize=(8, 6))\n",
        "plt.xlabel(\"Number of Articles\", labelpad=12)\n",
        "plt.ylabel(\"Social_acceptance\", labelpad=12)\n",
        "plt.yticks(rotation = 45)\n",
        "plt.title(\"Dataset Distribution\", y=1.02);"
      ],
      "execution_count": null,
      "outputs": [
        {
          "output_type": "display_data",
          "data": {
            "image/png": "[encoded data removed]",
            "text/plain": [
              "<Figure size 576x432 with 1 Axes>"
            ]
          },
          "metadata": {}
        }
      ]
    },
    {
      "cell_type": "markdown",
      "metadata": {
        "id": "P78udrKC0wM3"
      },
      "source": [
        "The dataset has total 12 News Categories data and politics class has maximum number of articles. "
      ]
    },
    {
      "cell_type": "markdown",
      "metadata": {
        "id": "gOUPdVxO1U6q"
      },
      "source": [
        "#Data Preparation and Cleaning"
      ]
    },
    {
      "cell_type": "code",
      "metadata": {
        "id": "4NTMIxZu1EQr"
      },
      "source": [
        "# Cleaning Data [Remove unncessary symbols]\n",
        "def cleaning_documents(articles):\n",
        "      '''\n",
        "      This function will clean the news articles by removing punctuation marks and stopwords.\n",
        "\n",
        "      Args:\n",
        "      articles: a news text(str)\n",
        "\n",
        "      returns:\n",
        "      news: clean text (str)\n",
        "      '''\n",
        "      news = articles.replace('\\n',' ')\n",
        "      news = re.sub('[^\\u0980-\\u09FF]',' ',str(news)) #removing unnecessary punctuation\n",
        "      # stopwords removal\n",
        "      stp = open(dataset_path+'stopwords-bn.txt','r',encoding='utf-8').read().split()\n",
        "      result = news.split()\n",
        "      news = [word.strip() for word in result if word not in stp ]\n",
        "      news =\" \".join(news)\n",
        "      return news"
      ],
      "execution_count": null,
      "outputs": []
    },
    {
      "cell_type": "code",
      "metadata": {
        "id": "MtfaphnVsJlc"
      },
      "source": [
        "# Apply the function into the dataframe\n",
        "data['cleaned'] = data['Comment'].apply(cleaning_documents)  "
      ],
      "execution_count": null,
      "outputs": []
    },
    {
      "cell_type": "code",
      "metadata": {
        "id": "0DSYpDzx4rK7",
        "colab": {
          "base_uri": "https://localhost:8080/"
        },
        "outputId": "a353d9ed-c71a-4c5e-f286-25bf5c9686e6"
      },
      "source": [
        "# print some cleaned documents from the dataset\n",
        "sample_data = [2000,5000]\n",
        "for i in sample_data:\n",
        "  print('Original:\\n',data.Comment[i],'\\nCleaned:\\n',\n",
        "           data.cleaned[i],'\\n','Social_acceptance:-- ',data.Social_acceptance[i],'\\n')   "
      ],
      "execution_count": null,
      "outputs": [
        {
          "output_type": "stream",
          "text": [
            "Original:\n",
            " ঠিক বলেছেন ভাইয়া এগুলা হচ্ছে ইহুদি জঙ্গী \n",
            "Cleaned:\n",
            " ভাইয়া এগুলা ইহুদি জঙ্গী \n",
            " Social_acceptance:--  Yes \n",
            "\n",
            "Original:\n",
            " কিছুক্ষন পর দেখব পর তাহসান পোস্ট করছে,বাবা হওয়ার সিদ্ধান্ত একান্ত পুরুষের ওই; \n",
            "Cleaned:\n",
            " কিছুক্ষন দেখব তাহসান পোস্ট বাবা হওয়ার সিদ্ধান্ত একান্ত পুরুষের \n",
            " Social_acceptance:--  Yes \n",
            "\n"
          ],
          "name": "stdout"
        }
      ]
    },
    {
      "cell_type": "code",
      "metadata": {
        "id": "CkJC0Qza6Ngk"
      },
      "source": [
        "# Stopwords pickle \n",
        "stp = open(dataset_path+'stopwords-bn.txt','r',encoding='utf-8').read().split()\n",
        "# open a file, where you ant to store the data\n",
        "file = open(dataset_path+'bangla_stopwords.pkl', 'wb')\n",
        "# dump information to that file\n",
        "pickle.dump(stp, file)"
      ],
      "execution_count": null,
      "outputs": []
    },
    {
      "cell_type": "code",
      "metadata": {
        "id": "bjetvNZG6dAL",
        "colab": {
          "base_uri": "https://localhost:8080/"
        },
        "outputId": "304b12a2-9716-4f44-8845-25f1b9b98190"
      },
      "source": [
        "stp = open(dataset_path+'bangla_stopwords.pkl','rb')\n",
        "stp = pickle.load(stp)\n",
        "len(stp)"
      ],
      "execution_count": null,
      "outputs": [
        {
          "output_type": "execute_result",
          "data": {
            "text/plain": [
              "398"
            ]
          },
          "metadata": {},
          "execution_count": 13
        }
      ]
    },
    {
      "cell_type": "markdown",
      "metadata": {
        "id": "5_cNNTmL5w-J"
      },
      "source": [
        "## Handle Low Length Documents"
      ]
    },
    {
      "cell_type": "code",
      "metadata": {
        "id": "PCVoq9WZ53Y3",
        "colab": {
          "base_uri": "https://localhost:8080/"
        },
        "outputId": "5b087d5b-206b-4ebd-923c-707f9d383781"
      },
      "source": [
        "# Calculate the Length of each Document\n",
        "data['Length'] = data.cleaned.apply(lambda x:len(x.split()))\n",
        "\n",
        "# Remove the Documents with least words\n",
        "dataset = data.loc[data.Length>2]\n",
        "dataset = dataset.reset_index(drop = True)\n",
        "print(\"After Cleaning:\",\"\\nRemoved {} Small Documents\".format(len(data)-len(dataset)),\n",
        "      \"\\nTotal Remaining Documents:\",len(dataset))"
      ],
      "execution_count": null,
      "outputs": [
        {
          "output_type": "stream",
          "text": [
            "After Cleaning: \n",
            "Removed 1213 Small Documents \n",
            "Total Remaining Documents: 5817\n"
          ],
          "name": "stdout"
        }
      ]
    },
    {
      "cell_type": "code",
      "metadata": {
        "id": "_spgtq0VY3QH"
      },
      "source": [
        "# Save the Cleaned data for reuse\n",
        "dataset.to_csv(dataset_path+'cleaned_news.csv')"
      ],
      "execution_count": null,
      "outputs": []
    },
    {
      "cell_type": "code",
      "metadata": {
        "id": "fUZv0LqMZViI",
        "colab": {
          "base_uri": "https://localhost:8080/"
        },
        "outputId": "9a26dd0e-8d6d-4019-8f8f-e6a040268e5c"
      },
      "source": [
        "# Load the Cleaned News\n",
        "dataset = pd.read_csv(dataset_path+'cleaned_news.csv')\n",
        "dataset.columns"
      ],
      "execution_count": null,
      "outputs": [
        {
          "output_type": "execute_result",
          "data": {
            "text/plain": [
              "Index(['Unnamed: 0', 'No.', 'Social_acceptance', 'Comment', 'cleaned',\n",
              "       'Length'],\n",
              "      dtype='object')"
            ]
          },
          "metadata": {},
          "execution_count": 52
        }
      ]
    },
    {
      "cell_type": "markdown",
      "metadata": {
        "id": "HgW31ZhL5IwU"
      },
      "source": [
        "#Document Length Distribution"
      ]
    },
    {
      "cell_type": "code",
      "metadata": {
        "id": "tj0bVmRn5M50",
        "colab": {
          "base_uri": "https://localhost:8080/",
          "height": 461
        },
        "outputId": "1e8db109-6dcb-4c15-b9a6-5c6e9404ff50"
      },
      "source": [
        "import matplotlib\n",
        "matplotlib.rc_file_defaults()\n",
        "frequency = dict()\n",
        "for i in dataset.Length:\n",
        "    frequency[i] = frequency.get(i, 0)+1\n",
        "\n",
        "plt.figure(figsize = (6,4))\n",
        "plt.bar(frequency.keys(), frequency.values(), color=(0.2, 0.4, 0.6, 0.6))\n",
        "plt.xlim(1, 100)\n",
        "# in this notbook color is not working but it should work.\n",
        "plt.xlabel('Length of the Documents')\n",
        "plt.ylabel('Frequency')\n",
        "plt.title('Length-Frequency Distribution')\n",
        "#plt.savefig(path+'len_dist.png',dpi = 1000,bbox_inches ='tight')\n",
        "plt.show()  \n",
        "print(f\"Maximum Length of a Document: {max(dataset.Length)}\")\n",
        "print(f\"Minimum Length of a Document: {min(dataset.Length)}\")\n",
        "print(f\"Average Length of a Document: {round(np.mean(dataset.Length),0)}\")\n"
      ],
      "execution_count": null,
      "outputs": [
        {
          "output_type": "display_data",
          "data": {
            "image/png": "[encoded data removed]",
            "text/plain": [
              "<Figure size 600x400 with 1 Axes>"
            ]
          },
          "metadata": {}
        },
        {
          "output_type": "stream",
          "text": [
            "Maximum Length of a Document: 368\n",
            "Minimum Length of a Document: 3\n",
            "Average Length of a Document: 13.0\n"
          ],
          "name": "stdout"
        }
      ]
    },
    {
      "cell_type": "markdown",
      "metadata": {
        "id": "pImiPM1IRBsE"
      },
      "source": [
        "# Dataset Summary"
      ]
    },
    {
      "cell_type": "code",
      "metadata": {
        "id": "0m3e8DctREzS",
        "colab": {
          "base_uri": "https://localhost:8080/"
        },
        "outputId": "368e6326-52bd-42f1-a5ee-7569001b6dde"
      },
      "source": [
        "def data_summary(dataset):\n",
        "  '''\n",
        "  This function will print the summary of the dataset\n",
        "\n",
        "  Args:\n",
        "  dataset: cleaned texts\n",
        "\n",
        "  returns:\n",
        "  documents: Number of document per class\n",
        "  words: Number of words per class\n",
        "  u_words: Number of unique words per class\n",
        "  class_label: name of the categories\n",
        "  '''\n",
        "  documents = []\n",
        "  words = []\n",
        "  u_words = []\n",
        "  #total_u_word = [word.strip().lower() for t in list(dataset.cleaned) for word in t.strip().split()]\n",
        "  # find class names\n",
        "  class_label = [k for k,v in dataset.Social_acceptance.value_counts().to_dict().items()]\n",
        "  for label in class_label: \n",
        "    word_list = [word.strip().lower() for t in list(dataset[dataset.Social_acceptance==label].cleaned) for word in t.strip().split()]\n",
        "    counts = dict()\n",
        "    for word in word_list:\n",
        "      counts[word] = counts.get(word, 0)+1\n",
        "    # sort the dictionary of word list  \n",
        "    ordered = sorted(counts.items(), key= lambda item: item[1],reverse = True)\n",
        "    # Documents per class\n",
        "    documents.append(len(list(dataset[dataset.Social_acceptance==label].cleaned)))\n",
        "    # Total Word per class\n",
        "    words.append(len(word_list))\n",
        "    # Unique words per class \n",
        "    u_words.append(len(np.unique(word_list)))\n",
        "       \n",
        "    print(\"\\nClass Name : \",label)\n",
        "    print(\"Number of Documents:{}\".format(len(list(dataset[dataset.Social_acceptance==label].cleaned))))  \n",
        "    print(\"Number of Words:{}\".format(len(word_list))) \n",
        "    print(\"Number of Unique Words:{}\".format(len(np.unique(word_list)))) \n",
        "    print(\"Most Frequent Words:\\n\")\n",
        "    for k,v in ordered[:10]:\n",
        "      print(\"{}\\t{}\".format(k,v))\n",
        "  return documents,words,u_words,class_label\n",
        "\n",
        "# pass the whole dataset into the function\n",
        "\n",
        "documents,words,u_words,class_names = data_summary(dataset)"
      ],
      "execution_count": null,
      "outputs": [
        {
          "output_type": "stream",
          "text": [
            "\n",
            "Class Name :  Yes\n",
            "Number of Documents:3946\n",
            "Number of Words:51668\n",
            "Number of Unique Words:15637\n",
            "Most Frequent Words:\n",
            "\n",
            "ভাই\t377\n",
            "কথা\t325\n",
            "ভালো\t298\n",
            "একটা\t284\n",
            "মানুষ\t251\n",
            "সাথে\t208\n",
            "হয়ে\t188\n",
            "দিয়ে\t176\n",
            "এক\t165\n",
            "যায়\t155\n",
            "\n",
            "Class Name :  No\n",
            "Number of Documents:1870\n",
            "Number of Words:22053\n",
            "Number of Unique Words:9012\n",
            "Most Frequent Words:\n",
            "\n",
            "একটা\t183\n",
            "ভাই\t159\n",
            "কথা\t139\n",
            "ভালো\t138\n",
            "সাথে\t97\n",
            "দিয়ে\t89\n",
            "হয়ে\t87\n",
            "মানুষ\t83\n",
            "টাকা\t72\n",
            "মত\t67\n"
          ],
          "name": "stdout"
        }
      ]
    },
    {
      "cell_type": "code",
      "metadata": {
        "id": "foyQX8RRWnZ8",
        "colab": {
          "base_uri": "https://localhost:8080/",
          "height": 111
        },
        "outputId": "fbf57e6f-d932-40e8-f1b5-164989eedf68"
      },
      "source": [
        "data_matrix = pd.DataFrame({'Total Documents':documents,\n",
        "                            'Total Words':words,\n",
        "                            'Unique Words':u_words,\n",
        "                            'Class Names':class_names})\n",
        "data_matrix"
      ],
      "execution_count": null,
      "outputs": [
        {
          "output_type": "execute_result",
          "data": {
            "text/html": [
              "<div>\n",
              "<style scoped>\n",
              "    .dataframe tbody tr th:only-of-type {\n",
              "        vertical-align: middle;\n",
              "    }\n",
              "\n",
              "    .dataframe tbody tr th {\n",
              "        vertical-align: top;\n",
              "    }\n",
              "\n",
              "    .dataframe thead th {\n",
              "        text-align: right;\n",
              "    }\n",
              "</style>\n",
              "<table border=\"1\" class=\"dataframe\">\n",
              "  <thead>\n",
              "    <tr style=\"text-align: right;\">\n",
              "      <th></th>\n",
              "      <th>Total Documents</th>\n",
              "      <th>Total Words</th>\n",
              "      <th>Unique Words</th>\n",
              "      <th>Class Names</th>\n",
              "    </tr>\n",
              "  </thead>\n",
              "  <tbody>\n",
              "    <tr>\n",
              "      <th>0</th>\n",
              "      <td>3946</td>\n",
              "      <td>51668</td>\n",
              "      <td>15637</td>\n",
              "      <td>Yes</td>\n",
              "    </tr>\n",
              "    <tr>\n",
              "      <th>1</th>\n",
              "      <td>1870</td>\n",
              "      <td>22053</td>\n",
              "      <td>9012</td>\n",
              "      <td>No</td>\n",
              "    </tr>\n",
              "  </tbody>\n",
              "</table>\n",
              "</div>"
            ],
            "text/plain": [
              "   Total Documents  Total Words  Unique Words Class Names\n",
              "0             3946        51668         15637         Yes\n",
              "1             1870        22053          9012          No"
            ]
          },
          "metadata": {},
          "execution_count": 17
        }
      ]
    },
    {
      "cell_type": "markdown",
      "metadata": {
        "id": "W0a69zaVcutK"
      },
      "source": [
        "## Data Summary Visualization"
      ]
    },
    {
      "cell_type": "code",
      "metadata": {
        "id": "M1nueRICc0yO",
        "colab": {
          "base_uri": "https://localhost:8080/",
          "height": 789
        },
        "outputId": "361847a4-8ce7-4fc7-c520-f1ffad77be34"
      },
      "source": [
        "sns.set()\n",
        "plt.figure(figsize =(10, 8))\n",
        "ax = plt.subplot()\n",
        "sns.heatmap(data_matrix.iloc[:,0:3], annot=True,fmt=\"d\", linewidths=0.5,linecolor = 'Black',cmap = \"YlGnBu\",ax = ax)\n",
        "# labels, title and ticks\n",
        "ax.set_ylabel('Class Names') \n",
        "ax.set_title('Data Statistics')\n",
        "y_label = [\"Total Documents\", \"Total Words\", \"Unique Words\"] \n",
        "ax.xaxis.set_ticklabels(y_label, rotation=45); ax.yaxis.set_ticklabels(class_names, rotation=45);\n",
        "ax.xaxis.tick_top()\n"
      ],
      "execution_count": null,
      "outputs": [
        {
          "output_type": "display_data",
          "data": {
            "image/png": "[encoded data removed]",
            "text/plain": [
              "<Figure size 1000x800 with 2 Axes>"
            ]
          },
          "metadata": {}
        }
      ]
    },
    {
      "cell_type": "markdown",
      "metadata": {
        "id": "3tA2UPuHdwj8"
      },
      "source": [
        "#Label Encoding and Dataset Splitting"
      ]
    },
    {
      "cell_type": "code",
      "metadata": {
        "id": "1TOvXC5gd02a"
      },
      "source": [
        "                   #===========================================================\n",
        "                   ################# Label Encoding Function ##################\n",
        "                   #===========================================================\n",
        "def label_encoding(dataset,bool):\n",
        "  '''\n",
        "  This function will convert categorical class names into a numeric label\n",
        "\n",
        "  Args:\n",
        "  dataset: A dataset\n",
        "  bool : a boolean (True or False)\n",
        "\n",
        "  returns:\n",
        "  labels: encoded labels \n",
        "  '''\n",
        "  le = LabelEncoder()\n",
        "  le.fit(dataset.Social_acceptance)\n",
        "  encoded_labels = le.transform(dataset.Social_acceptance)\n",
        "  labels = np.array(encoded_labels) # Converting into numpy array\n",
        "  class_names =le.classes_ ## Define the class names again\n",
        "  if bool == True:\n",
        "    print(color.BOLD+\"\\n\\t\\t\\t===== Label Encoding =====\"+color.END,\"\\nClass Names:-->\",le.classes_)\n",
        "  return labels  \n",
        "\n",
        "                   #===========================================================\n",
        "                   ################# Dataset Splitting Function ###############\n",
        "                   #=========================================================== \n",
        "\n",
        "def dataset_split(news,Social_acceptance):\n",
        "  '''\n",
        "  This function will split the dataset into Train-Test-Validation set\n",
        "\n",
        "  Args:\n",
        "  news: encoded texts\n",
        "  Social_acceptance: class names\n",
        "\n",
        "  returns:\n",
        "  X_train: Encoded Training News  \n",
        "  X_valid: Encoded Validation News\n",
        "  X_test:  Encoded Test news\n",
        "  y_train: Encoded Training labels\n",
        "  y_valid: Encoded Validation labels\n",
        "  y_test:  Encoded Test labels\n",
        "  '''\n",
        "\n",
        "  X,X_test,y,y_test = train_test_split(news,Social_acceptance,train_size = 0.9,\n",
        "                                                  test_size = 0.1,random_state =0)\n",
        "  X_train,X_valid,y_train,y_valid = train_test_split(X,y,train_size = 0.8,\n",
        "                                                  test_size = 0.2,random_state =0)\n",
        "  print(color.BOLD+\"Feature Size :======>\"+color.END,X_train.shape[1])\n",
        "  print(color.BOLD+\"\\nDataset Distribution:\\n\"+color.END)\n",
        "  print(\"\\tSet Name\",\"\\t\\tSize\")\n",
        "  print(\"\\t========\\t\\t======\")\n",
        "\n",
        "  print(\"\\tFull\\t\\t\\t\",news.shape[0],\n",
        "        \"\\n\\tTraining\\t\\t\",X_train.shape[0],\n",
        "        \"\\n\\tTest\\t\\t\\t\",X_test.shape[0],\n",
        "        \"\\n\\tValidation\\t\\t\",X_valid.shape[0])\n",
        "  \n",
        "  return X_train,X_valid,X_test,y_train,y_valid,y_test\n"
      ],
      "execution_count": null,
      "outputs": []
    },
    {
      "cell_type": "markdown",
      "metadata": {
        "id": "K3_QvYEEeOrQ"
      },
      "source": [
        "#Tokenizer"
      ]
    },
    {
      "cell_type": "code",
      "metadata": {
        "id": "j4hXDvHN3y1Y"
      },
      "source": [
        "dataset['Social_acceptance'] = dataset['Social_acceptance'].astype(str)"
      ],
      "execution_count": null,
      "outputs": []
    },
    {
      "cell_type": "code",
      "metadata": {
        "id": "1wYmxJ7UeQZ0",
        "colab": {
          "base_uri": "https://localhost:8080/"
        },
        "outputId": "74036c06-7cbe-4e89-ddda-a2d946995196"
      },
      "source": [
        "def encoded_texts(dataset,padding_length,max_words):\n",
        "\n",
        "  '''\n",
        "  This function will encoded the text into a sequence of numbers\n",
        "\n",
        "  Args:\n",
        "  dataset: a dataset\n",
        "  padding_length: maximum length of a encoded texte\n",
        "  max_words : Number of words \n",
        "\n",
        "  returns:\n",
        "  corpus: Number of encoded texts\n",
        "  labels: encoded labels\n",
        "  '''\n",
        "  \n",
        "  tokenizer = Tokenizer(num_words = max_words, filters='!\"#$%&()*+,-./:;<=>?@[\\\\]^_`{|}~\\t\\n-', \n",
        "                      split=' ', char_level=False, oov_token='<oov>', document_count=0)\n",
        "  \n",
        " \n",
        "\n",
        " # Fit the tokenizer\n",
        "  tokenizer.fit_on_texts(dataset.cleaned)\n",
        "  #============================== Tokenizer Info =================================\n",
        "  (word_counts,word_docs,word_index,document_count) = (tokenizer.word_counts,\n",
        "                                                       tokenizer.word_docs,\n",
        "                                                       tokenizer.word_index,\n",
        "                                                       tokenizer.document_count)\n",
        "  def tokenizer_info(mylist,bool):\n",
        "    ordered = sorted(mylist.items(), key= lambda item: item[1],reverse = bool)\n",
        "    for w,c in ordered[:10]:\n",
        "      print(w,\"\\t\",c)\n",
        "  #=============================== Print all the information =========================\n",
        "  print(color.BOLD+\"\\t\\t\\t====== Tokenizer Info ======\"+color.END)   \n",
        "  print(\"Words --> Counts:\")\n",
        "  tokenizer_info(word_counts,bool =True )\n",
        "  print(\"\\nWords --> Documents:\")\n",
        "  tokenizer_info(word_docs,bool =True )\n",
        "  print(\"\\nWords --> Index:\")\n",
        "  tokenizer_info(word_index,bool =True )    \n",
        "  print(\"\\nTotal Documents -->\",document_count)\n",
        "\n",
        "  #=========================== Convert string into list of integer indices =================\n",
        "  sequences = tokenizer.texts_to_sequences(dataset.cleaned)\n",
        "  word_index = tokenizer.word_index\n",
        "  print(color.BOLD+\"\\n\\t\\t\\t====== Encoded Sequences ======\"+color.END,\"\\nFound {} unique tokens\".format(len(word_index)))  \n",
        "  print(dataset.cleaned[10],\"\\n\",sequences[10]) \n",
        "\n",
        "  #==================================== Pad Sequences ============================== \n",
        "  corpus = keras.preprocessing.sequence.pad_sequences(sequences, value=0.0,\n",
        "                                                      padding='post', maxlen= padding_length)\n",
        "  print(\"\\n\\t\\t\\t====== Paded Sequences ======\\n\",dataset.cleaned[10],\"\\n\",corpus[10])   \n",
        "\n",
        "  #=================================     Label Encoding ================================\n",
        "  labels = label_encoding(dataset,True)\n",
        "\n",
        "   # save the tokenizer into a pickle file\n",
        "  with open(path+'tokenizer.pickle', 'wb') as handle:\n",
        "    pickle.dump(tokenizer, handle, protocol=pickle.HIGHEST_PROTOCOL)\n",
        "\n",
        "  return corpus,labels\n",
        "  \n",
        "#call the function\n",
        "num_words = 5000\n",
        "corpus,labels = encoded_texts(dataset,\n",
        "                                300,num_words)\n",
        "print(\"\\nShape of Encoded Corpus =====>\",corpus.shape)"
      ],
      "execution_count": null,
      "outputs": [
        {
          "output_type": "stream",
          "text": [
            "\u001b[1m\t\t\t====== Tokenizer Info ======\u001b[0m\n",
            "Words --> Counts:\n",
            "ভাই \t 536\n",
            "একটা \t 467\n",
            "কথা \t 464\n",
            "ভালো \t 436\n",
            "মানুষ \t 334\n",
            "সাথে \t 305\n",
            "হয়ে \t 275\n",
            "দিয়ে \t 265\n",
            "এক \t 225\n",
            "মত \t 214\n",
            "\n",
            "Words --> Documents:\n",
            "ভাই \t 476\n",
            "একটা \t 389\n",
            "কথা \t 386\n",
            "ভালো \t 386\n",
            "মানুষ \t 277\n",
            "হয়ে \t 254\n",
            "সাথে \t 250\n",
            "দিয়ে \t 230\n",
            "এক \t 188\n",
            "মত \t 185\n",
            "\n",
            "Words --> Index:\n",
            "ভড়ে \t 19879\n",
            "আন্ডাসটেন্ড \t 19878\n",
            "ফকেন \t 19877\n",
            "ফরিস \t 19876\n",
            "ওয়ার্কার \t 19875\n",
            "ওয়াসিস \t 19874\n",
            "মাসি \t 19873\n",
            "পকিং \t 19872\n",
            "দিরিসি \t 19871\n",
            "ওয়ান \t 19870\n",
            "\n",
            "Total Documents --> 5817\n",
            "\u001b[1m\n",
            "\t\t\t====== Encoded Sequences ======\u001b[0m \n",
            "Found 19879 unique tokens\n",
            "হেফাজত ধর্ষক দের দল \n",
            " [342, 1047, 113, 146]\n",
            "\n",
            "\t\t\t====== Paded Sequences ======\n",
            " হেফাজত ধর্ষক দের দল \n",
            " [ 342 1047  113  146    0    0    0    0    0    0    0    0    0    0\n",
            "    0    0    0    0    0    0    0    0    0    0    0    0    0    0\n",
            "    0    0    0    0    0    0    0    0    0    0    0    0    0    0\n",
            "    0    0    0    0    0    0    0    0    0    0    0    0    0    0\n",
            "    0    0    0    0    0    0    0    0    0    0    0    0    0    0\n",
            "    0    0    0    0    0    0    0    0    0    0    0    0    0    0\n",
            "    0    0    0    0    0    0    0    0    0    0    0    0    0    0\n",
            "    0    0    0    0    0    0    0    0    0    0    0    0    0    0\n",
            "    0    0    0    0    0    0    0    0    0    0    0    0    0    0\n",
            "    0    0    0    0    0    0    0    0    0    0    0    0    0    0\n",
            "    0    0    0    0    0    0    0    0    0    0    0    0    0    0\n",
            "    0    0    0    0    0    0    0    0    0    0    0    0    0    0\n",
            "    0    0    0    0    0    0    0    0    0    0    0    0    0    0\n",
            "    0    0    0    0    0    0    0    0    0    0    0    0    0    0\n",
            "    0    0    0    0    0    0    0    0    0    0    0    0    0    0\n",
            "    0    0    0    0    0    0    0    0    0    0    0    0    0    0\n",
            "    0    0    0    0    0    0    0    0    0    0    0    0    0    0\n",
            "    0    0    0    0    0    0    0    0    0    0    0    0    0    0\n",
            "    0    0    0    0    0    0    0    0    0    0    0    0    0    0\n",
            "    0    0    0    0    0    0    0    0    0    0    0    0    0    0\n",
            "    0    0    0    0    0    0    0    0    0    0    0    0    0    0\n",
            "    0    0    0    0    0    0]\n",
            "\u001b[1m\n",
            "\t\t\t===== Label Encoding =====\u001b[0m \n",
            "Class Names:--> ['No' 'Yes' 'nan']\n",
            "\n",
            "Shape of Encoded Corpus =====> (5817, 300)\n"
          ],
          "name": "stdout"
        }
      ]
    },
    {
      "cell_type": "markdown",
      "metadata": {
        "id": "l300dkxyiryZ"
      },
      "source": [
        "#Call Dataset Split Function"
      ]
    },
    {
      "cell_type": "code",
      "metadata": {
        "id": "gNEBxFKJiwEv",
        "colab": {
          "base_uri": "https://localhost:8080/"
        },
        "outputId": "94fcf0af-e0d5-43d5-cd3e-8fd939cc4b47"
      },
      "source": [
        "X_train,X_valid,X_test,y_train,y_valid,y_test = dataset_split(corpus,labels)"
      ],
      "execution_count": null,
      "outputs": [
        {
          "output_type": "stream",
          "text": [
            "\u001b[1mFeature Size :======>\u001b[0m 300\n",
            "\u001b[1m\n",
            "Dataset Distribution:\n",
            "\u001b[0m\n",
            "\tSet Name \t\tSize\n",
            "\t========\t\t======\n",
            "\tFull\t\t\t 5817 \n",
            "\tTraining\t\t 4188 \n",
            "\tTest\t\t\t 582 \n",
            "\tValidation\t\t 1047\n"
          ],
          "name": "stdout"
        }
      ]
    },
    {
      "cell_type": "markdown",
      "metadata": {
        "id": "h-cT7teTjFZU"
      },
      "source": [
        "#Model Defination"
      ]
    },
    {
      "cell_type": "code",
      "metadata": {
        "id": "1p9JST2KBr5V",
        "colab": {
          "base_uri": "https://localhost:8080/"
        },
        "outputId": "d1eb94df-997d-4b51-eeec-42874065c6a0"
      },
      "source": [
        "\n",
        "embedding_dimension = 140\n",
        "input_length = 300\n",
        "vocab_size = 5000\n",
        "num_classes = 12\n",
        "batch_size = 64\n",
        "num_epochs = 10\n",
        "\n",
        "accuracy_threshold = 0.97\n",
        "\n",
        "\n",
        "class myCallback(keras.callbacks.Callback):\n",
        "  def on_epoch_end(self, epoch, logs={}):\n",
        "      if(logs.get('accuracy')>accuracy_threshold):\n",
        "        print(\"\\nReached %2.2f%% accuracy so we will stop trianing\" % (accuracy_threshold*100))\n",
        "        self.model.stop_training = True\n",
        "\n",
        "acc_callback = myCallback()\n",
        "# Saved the Best Model\n",
        "filepath = path+\"Model.h5\"\n",
        "checkpoint = keras.callbacks.ModelCheckpoint(filepath, monitor='val_accuracy', verbose=2, save_best_only=True, \n",
        "                                             save_weights_only=False, mode='max')\n",
        "# callback list\n",
        "callback_list = [acc_callback, checkpoint] \n",
        "\n",
        "                            ###############################     CNN network architecture ################\n",
        "model = tf.keras.models.Sequential([\n",
        "tf.keras.layers.Embedding(vocab_size, embedding_dimension, input_length = input_length),\n",
        "tf.keras.layers.Conv1D(128, 5, activation= 'relu'),\n",
        "tf.keras.layers.MaxPooling1D(5),\n",
        "tf.keras.layers.Bidirectional(LSTM(64, return_sequences=True,dropout = 0.2)),\n",
        "tf.keras.layers.Bidirectional(LSTM(64, return_sequences=True,dropout = 0.2)),\n",
        "tf.keras.layers.Dense(28, activation='relu'),\n",
        "tf.keras.layers.Dense(14, activation='relu'),\n",
        "keras.layers.Flatten(),\n",
        "tf.keras.layers.Dense(num_classes , activation='softmax')])\n",
        "\n",
        "model.summary()\n",
        "\n",
        "model.compile(optimizer=keras.optimizers.Adam(),\n",
        "    loss='sparse_categorical_crossentropy',\n",
        "    metrics=['accuracy'])\n",
        "   \n",
        "history = model.fit(X_train,\n",
        "    y_train,\n",
        "    epochs=num_epochs,\n",
        "    batch_size = batch_size,\n",
        "    validation_data=(X_valid, y_valid),\n",
        "    verbose =1)\n",
        "    #callbacks = callback_list)\n"
      ],
      "execution_count": null,
      "outputs": [
        {
          "output_type": "stream",
          "text": [
            "Model: \"sequential_14\"\n",
            "_________________________________________________________________\n",
            "Layer (type)                 Output Shape              Param #   \n",
            "=================================================================\n",
            "embedding_14 (Embedding)     (None, 300, 140)          700000    \n",
            "_________________________________________________________________\n",
            "conv1d_14 (Conv1D)           (None, 296, 128)          89728     \n",
            "_________________________________________________________________\n",
            "max_pooling1d_14 (MaxPooling (None, 59, 128)           0         \n",
            "_________________________________________________________________\n",
            "bidirectional_28 (Bidirectio (None, 59, 128)           98816     \n",
            "_________________________________________________________________\n",
            "bidirectional_29 (Bidirectio (None, 59, 128)           98816     \n",
            "_________________________________________________________________\n",
            "dense_42 (Dense)             (None, 59, 28)            3612      \n",
            "_________________________________________________________________\n",
            "dense_43 (Dense)             (None, 59, 14)            406       \n",
            "_________________________________________________________________\n",
            "flatten_14 (Flatten)         (None, 826)               0         \n",
            "_________________________________________________________________\n",
            "dense_44 (Dense)             (None, 12)                9924      \n",
            "=================================================================\n",
            "Total params: 1,001,302\n",
            "Trainable params: 1,001,302\n",
            "Non-trainable params: 0\n",
            "_________________________________________________________________\n",
            "Epoch 1/10\n",
            "66/66 [==============================] - 8s 43ms/step - loss: 0.8669 - accuracy: 0.6318 - val_loss: 0.6360 - val_accuracy: 0.6686\n",
            "Epoch 2/10\n",
            "66/66 [==============================] - 2s 23ms/step - loss: 0.6332 - accuracy: 0.6767 - val_loss: 0.6352 - val_accuracy: 0.6686\n",
            "Epoch 3/10\n",
            "66/66 [==============================] - 1s 23ms/step - loss: 0.5934 - accuracy: 0.6793 - val_loss: 0.6455 - val_accuracy: 0.6418\n",
            "Epoch 4/10\n",
            "66/66 [==============================] - 2s 23ms/step - loss: 0.4138 - accuracy: 0.8037 - val_loss: 0.8228 - val_accuracy: 0.6074\n",
            "Epoch 5/10\n",
            "66/66 [==============================] - 2s 23ms/step - loss: 0.2239 - accuracy: 0.9035 - val_loss: 1.2099 - val_accuracy: 0.6304\n",
            "Epoch 6/10\n",
            "66/66 [==============================] - 2s 23ms/step - loss: 0.1094 - accuracy: 0.9642 - val_loss: 1.2928 - val_accuracy: 0.6304\n",
            "Epoch 7/10\n",
            "66/66 [==============================] - 1s 23ms/step - loss: 0.0677 - accuracy: 0.9780 - val_loss: 1.4206 - val_accuracy: 0.6160\n",
            "Epoch 8/10\n",
            "66/66 [==============================] - 2s 23ms/step - loss: 0.0405 - accuracy: 0.9862 - val_loss: 1.8118 - val_accuracy: 0.5912\n",
            "Epoch 9/10\n",
            "66/66 [==============================] - 1s 22ms/step - loss: 0.0322 - accuracy: 0.9900 - val_loss: 2.1390 - val_accuracy: 0.6027\n",
            "Epoch 10/10\n",
            "66/66 [==============================] - 2s 23ms/step - loss: 0.0321 - accuracy: 0.9900 - val_loss: 2.2028 - val_accuracy: 0.5635\n"
          ],
          "name": "stdout"
        }
      ]
    },
    {
      "cell_type": "code",
      "metadata": {
        "colab": {
          "base_uri": "https://localhost:8080/"
        },
        "id": "5Dn5EM4XSicu",
        "outputId": "844fb906-c126-442d-e3cd-b45703c5b094"
      },
      "source": [
        "print('CNN-BiLSTM \\nAccuracy: {0:.2f}'.format(accuracy_score(y_test, y_pred)*100))"
      ],
      "execution_count": null,
      "outputs": [
        {
          "output_type": "stream",
          "text": [
            "CNN-BiLSTM \n",
            "Accuracy: 60.48\n"
          ],
          "name": "stdout"
        }
      ]
    },
    {
      "cell_type": "code",
      "metadata": {
        "id": "ce2NybEGbDB2"
      },
      "source": [
        "# save the model\n",
        "tf.keras.models.save_model(model, path+'Document.h5', save_format='h5')\n",
        "#model.save(path+'Document_Categorization.h5')"
      ],
      "execution_count": null,
      "outputs": []
    },
    {
      "cell_type": "code",
      "metadata": {
        "id": "26GbSZKBM5It",
        "colab": {
          "base_uri": "https://localhost:8080/",
          "height": 497
        },
        "outputId": "40ae0e89-624f-4ea0-f3ec-e1cd361a100f"
      },
      "source": [
        "loss_values = history.history['loss']\n",
        "val_loss_values = history.history['val_loss']\n",
        "acc = history.history['accuracy']\n",
        "val_acc = history.history['val_accuracy']\n",
        "epochs = range(1, len(acc) + 1)\n",
        "sns.set_style('darkgrid')\n",
        "                  #=========================================================\n",
        "                  ############### Epochs vs Validation Accuracy Plot ##########\n",
        "                  #==========================================================\n",
        "\n",
        "plt.plot(epochs, acc, color='midnightblue', linewidth = 2, \n",
        "          marker='o', markersize=8,label='Training Accuracy')\n",
        "plt.plot(epochs, val_acc, color='darkred', linewidth = 2, \n",
        "          marker='o', markersize=8,label='Training Accuracy')\n",
        "plt.title('Training and validation accuracy',fontsize=12,fontweight='bold')\n",
        "plt.xlabel('Epochs',fontsize=12,fontweight='bold')\n",
        "plt.ylabel('Accuracy',fontsize=12,fontweight='bold')\n",
        "plt.legend(['Training Accuracy','Validation Accuracy'])"
      ],
      "execution_count": null,
      "outputs": [
        {
          "output_type": "execute_result",
          "data": {
            "text/plain": [
              "<matplotlib.legend.Legend at 0x7f60e0085a50>"
            ]
          },
          "metadata": {},
          "execution_count": 95
        },
        {
          "output_type": "display_data",
          "data": {
            "image/png": "[encoded data removed]",
            "text/plain": [
              "<Figure size 640x480 with 1 Axes>"
            ]
          },
          "metadata": {}
        }
      ]
    },
    {
      "cell_type": "markdown",
      "metadata": {
        "id": "eQ9bAhadNaKd"
      },
      "source": [
        "From the **accuracy plot** it is observed that, the validation accuracy not improved more than 85%, it is due to multiclass imbalanced classification probelm. Moreover by proper tunning the vocabulary size the model perfoemance can be improved."
      ]
    },
    {
      "cell_type": "markdown",
      "metadata": {
        "id": "vEJcNkTVQkJI"
      },
      "source": [
        "# Model Performance on Test Set"
      ]
    },
    {
      "cell_type": "code",
      "metadata": {
        "id": "nVpwpJA-cYO3"
      },
      "source": [
        "# Load the saved model\n",
        "model = load_model(path+'Document.h5')"
      ],
      "execution_count": null,
      "outputs": []
    },
    {
      "cell_type": "code",
      "metadata": {
        "id": "-FNXIduHQpOK",
        "colab": {
          "base_uri": "https://localhost:8080/",
          "height": 204
        },
        "outputId": "23fd5e7f-d2b6-41b0-b838-98ea6040452e"
      },
      "source": [
        "class_names = ['Yes' ,'No']\n",
        "predictions = model.predict(X_test)\n",
        "y_pred = np.argmax(predictions, axis=1)\n",
        "report = pd.DataFrame(classification_report(y_true = y_test, y_pred = y_pred, output_dict=True)).transpose()\n",
        "report = report.rename(index={'0': 'No','1':'Yes'})\n",
        "report[['precision','recall','f1-score']]=report[['precision','recall','f1-score']].apply(lambda x: round(x*100,2))\n",
        "report"
      ],
      "execution_count": null,
      "outputs": [
        {
          "output_type": "execute_result",
          "data": {
            "text/html": [
              "<div>\n",
              "<style scoped>\n",
              "    .dataframe tbody tr th:only-of-type {\n",
              "        vertical-align: middle;\n",
              "    }\n",
              "\n",
              "    .dataframe tbody tr th {\n",
              "        vertical-align: top;\n",
              "    }\n",
              "\n",
              "    .dataframe thead th {\n",
              "        text-align: right;\n",
              "    }\n",
              "</style>\n",
              "<table border=\"1\" class=\"dataframe\">\n",
              "  <thead>\n",
              "    <tr style=\"text-align: right;\">\n",
              "      <th></th>\n",
              "      <th>precision</th>\n",
              "      <th>recall</th>\n",
              "      <th>f1-score</th>\n",
              "      <th>support</th>\n",
              "    </tr>\n",
              "  </thead>\n",
              "  <tbody>\n",
              "    <tr>\n",
              "      <th>No</th>\n",
              "      <td>30.54</td>\n",
              "      <td>36.47</td>\n",
              "      <td>33.24</td>\n",
              "      <td>170.000000</td>\n",
              "    </tr>\n",
              "    <tr>\n",
              "      <th>Yes</th>\n",
              "      <td>71.50</td>\n",
              "      <td>65.78</td>\n",
              "      <td>68.52</td>\n",
              "      <td>412.000000</td>\n",
              "    </tr>\n",
              "    <tr>\n",
              "      <th>accuracy</th>\n",
              "      <td>57.22</td>\n",
              "      <td>57.22</td>\n",
              "      <td>57.22</td>\n",
              "      <td>0.572165</td>\n",
              "    </tr>\n",
              "    <tr>\n",
              "      <th>macro avg</th>\n",
              "      <td>51.02</td>\n",
              "      <td>51.12</td>\n",
              "      <td>50.88</td>\n",
              "      <td>582.000000</td>\n",
              "    </tr>\n",
              "    <tr>\n",
              "      <th>weighted avg</th>\n",
              "      <td>59.54</td>\n",
              "      <td>57.22</td>\n",
              "      <td>58.22</td>\n",
              "      <td>582.000000</td>\n",
              "    </tr>\n",
              "  </tbody>\n",
              "</table>\n",
              "</div>"
            ],
            "text/plain": [
              "              precision  recall  f1-score     support\n",
              "No                30.54   36.47     33.24  170.000000\n",
              "Yes               71.50   65.78     68.52  412.000000\n",
              "accuracy          57.22   57.22     57.22    0.572165\n",
              "macro avg         51.02   51.12     50.88  582.000000\n",
              "weighted avg      59.54   57.22     58.22  582.000000"
            ]
          },
          "metadata": {},
          "execution_count": 97
        }
      ]
    },
    {
      "cell_type": "markdown",
      "metadata": {
        "id": "vSMg_JAMSYNM"
      },
      "source": [
        "By observing precision,recall and f1-score we can see that all the classes are classified reasonably well except **Art and Environment.** "
      ]
    },
    {
      "cell_type": "markdown",
      "metadata": {
        "id": "MH3HoWz_OeeE"
      },
      "source": [
        "## Confusion Matrix"
      ]
    },
    {
      "cell_type": "code",
      "metadata": {
        "id": "CUdG2LdjGHRi",
        "colab": {
          "base_uri": "https://localhost:8080/",
          "height": 606
        },
        "outputId": "b2c2855b-e172-46fb-d45c-8b75837cadc7"
      },
      "source": [
        "from sklearn.metrics import classification_report, confusion_matrix\n",
        "predictions = model.predict(X_test)\n",
        "y_pred = np.argmax(predictions, axis=1)\n",
        "\n",
        "cm = confusion_matrix(y_test, y_pred) \n",
        "\n",
        "class_names = ['Yes' ,'No']\n",
        "# Transform to df for easier plotting\n",
        "cm_df = pd.DataFrame(cm,\n",
        "                     index = class_names, \n",
        "                     columns = class_names)\n",
        "\n",
        "plt.figure(figsize=(8,6))\n",
        "sns.heatmap(cm_df, annot=True,cmap=\"Greens\", fmt='g')\n",
        "plt.title('CNN-BiLSTM \\nAccuracy: {0:.2f}'.format(accuracy_score(y_test, y_pred)*100))\n",
        "plt.ylabel('True label')\n",
        "plt.xlabel('Predicted label')\n",
        "plt.xticks(rotation = 45)\n",
        "plt.yticks(rotation = 45)\n",
        "plt.show()\n"
      ],
      "execution_count": null,
      "outputs": [
        {
          "output_type": "display_data",
          "data": {
            "image/png": "[encoded data removed]",
            "text/plain": [
              "<Figure size 800x600 with 2 Axes>"
            ]
          },
          "metadata": {}
        }
      ]
    },
    {
      "cell_type": "markdown",
      "metadata": {
        "id": "GH8lMDKxSz1M"
      },
      "source": [
        "The confusion matrix provides a good understanding about how many documents are correctly classified in each class and which classes get confused during classification. Here, we can see that Art, Entertainment, Politics Social_acceptance gives larger number of false classified result.  "
      ]
    },
    {
      "cell_type": "markdown",
      "metadata": {
        "id": "l0aWT-JIcrL8"
      },
      "source": [
        "## Test with our own news "
      ]
    },
    {
      "cell_type": "code",
      "metadata": {
        "id": "dR0dy_qccvW-",
        "colab": {
          "base_uri": "https://localhost:8080/",
          "height": 35
        },
        "outputId": "ebcef249-088a-4ad4-e7a0-b53c2eb14e1d"
      },
      "source": [
        "sample_news = 'অসভ্য মহিলা! আমি বুঝি না মানুষ কেন এদের হাইলাইট করে!'\n",
        "cleaned_news = cleaning_documents(sample_news)\n",
        "\n",
        "class_names = ['Yes' ,'No']\n",
        "\n",
        "#print(cleaned_news)\n",
        "# load the saved tokenizer\n",
        "with open(dataset_path+'tokenizer.pickle', 'rb') as handle:\n",
        "    loaded_tokenizer = pickle.load(handle)\n",
        "#print(len(loaded_tokenizer.word_index))\n",
        "seq= loaded_tokenizer.texts_to_sequences([cleaned_news])\n",
        "padded = pad_sequences(seq, value=0.0,padding='post', maxlen= 300 )\n",
        "pred = model.predict(padded)\n",
        "#print(pred) \n",
        "class_names[np.argmax(pred)]   \n"
      ],
      "execution_count": null,
      "outputs": [
        {
          "output_type": "execute_result",
          "data": {
            "application/vnd.google.colaboratory.intrinsic+json": {
              "type": "string"
            },
            "text/plain": [
              "'No'"
            ]
          },
          "metadata": {},
          "execution_count": 69
        }
      ]
    },
    {
      "cell_type": "code",
      "metadata": {
        "id": "kcWqif08u13d",
        "colab": {
          "base_uri": "https://localhost:8080/"
        },
        "outputId": "85bfbc3d-a37b-490c-e9d7-9148ac0331ea"
      },
      "source": [
        "# print top most classes\n",
        "y_pred = pred.reshape(-1)\n",
        "class_labels=[(class_names[i],round(prob*100,2)) for i,prob in enumerate(y_pred) if prob > 0.1]\n",
        "\n",
        "for k, v in class_labels:\n",
        "  print(k,'====>',v,'%')"
      ],
      "execution_count": null,
      "outputs": [
        {
          "output_type": "stream",
          "text": [
            "No ====> 93.63 %\n"
          ],
          "name": "stdout"
        }
      ]
    }
  ]
}