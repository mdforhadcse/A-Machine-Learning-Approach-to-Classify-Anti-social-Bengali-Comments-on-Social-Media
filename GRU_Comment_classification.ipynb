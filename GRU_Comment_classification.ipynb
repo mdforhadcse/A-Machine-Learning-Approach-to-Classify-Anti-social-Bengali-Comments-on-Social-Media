{
  "nbformat": 4,
  "nbformat_minor": 0,
  "metadata": {
    "colab": {
      "name": "GRU Comment classification.ipynb",
      "provenance": [],
      "collapsed_sections": []
    },
    "kernelspec": {
      "name": "python3",
      "display_name": "Python 3"
    },
    "accelerator": "GPU"
  },
  "cells": [
    {
      "cell_type": "code",
      "metadata": {
        "id": "hLBEUCrh06rG",
        "colab": {
          "base_uri": "https://localhost:8080/"
        },
        "outputId": "78d1e6a6-1bae-46ef-ad87-1d5189ef4e13"
      },
      "source": [
        "from google.colab import drive\n",
        "drive.mount('/content/drive')"
      ],
      "execution_count": null,
      "outputs": [
        {
          "output_type": "stream",
          "name": "stdout",
          "text": [
            "Mounted at /content/drive\n"
          ]
        }
      ]
    },
    {
      "cell_type": "markdown",
      "metadata": {
        "id": "X5xYrCLy1JXP"
      },
      "source": [
        "#Libraries"
      ]
    },
    {
      "cell_type": "code",
      "metadata": {
        "id": "_qVBJO_31PRk"
      },
      "source": [
        "import numpy as np\n",
        "import matplotlib.pyplot as plt\n",
        "%matplotlib inline\n",
        "import pandas as pd\n",
        "import seaborn as sns\n",
        "import re,nltk,json\n",
        "import tensorflow as tf\n",
        "from tensorflow import keras\n",
        "from tensorflow.keras import regularizers\n",
        "from tensorflow.keras.preprocessing.sequence import pad_sequences\n",
        "from keras import models\n",
        "from keras import layers\n",
        "from tensorflow.keras.layers import LSTM,GRU\n",
        "from tensorflow.keras.models import load_model\n",
        "from sklearn.metrics import confusion_matrix\n",
        "from sklearn.metrics import classification_report \n",
        "from sklearn.model_selection import train_test_split\n",
        "from sklearn.metrics import accuracy_score,precision_score,recall_score,f1_score,roc_auc_score\n",
        "from sklearn.metrics import average_precision_score,roc_auc_score, roc_curve, precision_recall_curve\n",
        "from sklearn.preprocessing import LabelEncoder\n",
        "from tensorflow.keras.preprocessing.text import Tokenizer\n",
        "np.random.seed(42)\n",
        "class color: # Text style\n",
        "   PURPLE = '\\033[95m'\n",
        "   CYAN = '\\033[96m'\n",
        "   DARKCYAN = '\\033[36m'\n",
        "   BLUE = '\\033[94m'\n",
        "   GREEN = '\\033[92m'\n",
        "   YELLOW = '\\033[93m'\n",
        "   RED = '\\033[91m'\n",
        "   BOLD = '\\033[1m'\n",
        "   UNDERLINE = '\\033[4m'\n",
        "   END = '\\033[0m'\n",
        "# dataset path\n",
        "path = '/content/drive/MyDrive/NLP ML/'"
      ],
      "execution_count": null,
      "outputs": []
    },
    {
      "cell_type": "markdown",
      "metadata": {
        "id": "VYgeRkab1q3c"
      },
      "source": [
        "#Data Preparation"
      ]
    },
    {
      "cell_type": "code",
      "metadata": {
        "id": "D_1JzSZn1u8t",
        "colab": {
          "base_uri": "https://localhost:8080/",
          "height": 344
        },
        "outputId": "35297d21-c379-4a2e-cbd6-77f1bbc3bd30"
      },
      "source": [
        "# data = pd.read_csv('https://raw.githubusercontent.com/mdforhadcse/Bangla_Comments_Dataset/main/Final.csv',encoding='utf-8')\n",
        "data = pd.read_csv('https://raw.githubusercontent.com/mdforhadcse/Bangla_Comments_Dataset/main/2000data.csv',encoding='UTF-8')\n",
        "print(f'Total number of Comments: {len(data)}')\n",
        "sns.set(font_scale=1.4)\n",
        "data['Social_acceptance'].value_counts().plot(kind='barh', figsize=(6, 4))\n",
        "plt.xlabel(\"Number of Comments\", labelpad=12)\n",
        "plt.ylabel(\"Social_acceptance\", labelpad=12)\n",
        "plt.yticks(rotation = 45)\n",
        "plt.title(\"Dataset Distribution\", y=1.02);"
      ],
      "execution_count": null,
      "outputs": [
        {
          "output_type": "stream",
          "name": "stdout",
          "text": [
            "Total number of Comments: 2002\n"
          ]
        },
        {
          "output_type": "display_data",
          "data": {
            "image/png": "[encoded data removed]",
            "text/plain": [
              "<Figure size 432x288 with 1 Axes>"
            ]
          },
          "metadata": {}
        }
      ]
    },
    {
      "cell_type": "code",
      "metadata": {
        "id": "RaJzhzHZ25LY",
        "colab": {
          "base_uri": "https://localhost:8080/"
        },
        "outputId": "56d6cdf1-1ed0-4c90-c636-6ae65850e327"
      },
      "source": [
        "data.columns"
      ],
      "execution_count": null,
      "outputs": [
        {
          "output_type": "execute_result",
          "data": {
            "text/plain": [
              "Index(['No.', 'Social_acceptance', 'Comment'], dtype='object')"
            ]
          },
          "metadata": {},
          "execution_count": 4
        }
      ]
    },
    {
      "cell_type": "markdown",
      "metadata": {
        "id": "TVjNVcuC2lyQ"
      },
      "source": [
        "#Data Cleaning"
      ]
    },
    {
      "cell_type": "code",
      "metadata": {
        "id": "wY1Def2a2s7l",
        "colab": {
          "base_uri": "https://localhost:8080/"
        },
        "outputId": "e1fd08ea-264b-4041-d51e-e19281817b9b"
      },
      "source": [
        "# Cleaning Data [Remove unncessary symbols]\n",
        "def cleaning_data(row):\n",
        "      Comments = re.sub('[^\\u0980-\\u09FF]',' ',str(row)) #removing unnecessary punctuation\n",
        "      return Comments\n",
        "# Apply the function into the dataframe\n",
        "data['cleaned'] = data['Comment'].apply(cleaning_data)  \n",
        "\n",
        "# print some cleaned reviews from the dataset\n",
        "sample_data = [10,100,150,200,250,600,650,666,689,640,650,700,750,800,1000]\n",
        "for i in sample_data:\n",
        "  print('Original: ',data.Comment[i],'\\nCleaned:',\n",
        "           data.cleaned[i],'\\n','Socialacceptance:-- ',data.Social_acceptance[i],'\\n')   "
      ],
      "execution_count": null,
      "outputs": [
        {
          "output_type": "stream",
          "name": "stdout",
          "text": [
            "Original:  জ্বী ভাই।আপনাগো তালতো কি রুমে হিজরা নিয়ে গেসিলো?? সেটা কেনো এতো তড়ি ঘড়ি করে ছাপেন না।হেফাজত কে এতোদিন চাটছেন আপনাদের প্রশাসন। এখন হেফাজত দুর্গন্ধ ময় হয়ে গেলো।মাইয়া বাজ হয়ে গেলো! ফালতু পত্রিকা একটা। \n",
            "Cleaned: জ্বী ভাই আপনাগো তালতো কি রুমে হিজরা নিয়ে গেসিলো   সেটা কেনো এতো তড়ি ঘড়ি করে ছাপেন না হেফাজত কে এতোদিন চাটছেন আপনাদের প্রশাসন  এখন হেফাজত দুর্গন্ধ ময় হয়ে গেলো মাইয়া বাজ হয়ে গেলো  ফালতু পত্রিকা একটা  \n",
            " Socialacceptance:--  No \n",
            "\n",
            "Original:  পাবলিক বিশব্বিদ্যালয় গুলো অযোগ্যদের দখলে এখন! \n",
            "Cleaned: পাবলিক বিশব্বিদ্যালয় গুলো অযোগ্যদের দখলে এখন  \n",
            " Socialacceptance:--  No \n",
            "\n",
            "Original:  সাহস সাফল্যের চাবি কাঠি \n",
            "Cleaned: সাহস সাফল্যের চাবি কাঠি \n",
            " Socialacceptance:--  No \n",
            "\n",
            "Original:  লেন্ডি \n",
            "Cleaned: লেন্ডি \n",
            " Socialacceptance:--  No \n",
            "\n",
            "Original:  শালির ঘরের শালি \n",
            "Cleaned: শালির ঘরের শালি \n",
            " Socialacceptance:--  No \n",
            "\n",
            "Original:  বুরি হলে বুঝবি তুই এখন নয় । \n",
            "Cleaned: বুরি হলে বুঝবি তুই এখন নয়   \n",
            " Socialacceptance:--  No \n",
            "\n",
            "Original:  ভালো হয়ে যাও নোবেল!! \n",
            "Cleaned: ভালো হয়ে যাও নোবেল   \n",
            " Socialacceptance:--  No \n",
            "\n",
            "Original:  আগে জানতাম ও দেখতাম মেয়েরা কমপিটিশন দিয়া ছেলেদের সাথে সব কিছুতে আগাইয়া জাইতাছে, এখন দেখি ছেলেরাও কমপিটিশন দিয়া মেয়েদের সাথে দিয়া পিংক কালার নিয়া আগাচ্ছে পিঙ্কির পিঙ্কু \n",
            "Cleaned: আগে জানতাম ও দেখতাম মেয়েরা কমপিটিশন দিয়া ছেলেদের সাথে সব কিছুতে আগাইয়া জাইতাছে  এখন দেখি ছেলেরাও কমপিটিশন দিয়া মেয়েদের সাথে দিয়া পিংক কালার নিয়া আগাচ্ছে পিঙ্কির পিঙ্কু \n",
            " Socialacceptance:--  No \n",
            "\n",
            "Original:  আমাদের বিচি শক্ত আমরা এনাম ভাইয়ের ভক্ত, \n",
            "Cleaned: আমাদের বিচি শক্ত আমরা এনাম ভাইয়ের ভক্ত  \n",
            " Socialacceptance:--  No \n",
            "\n",
            "Original:  চোর বেটা \n",
            "Cleaned: চোর বেটা \n",
            " Socialacceptance:--  No \n",
            "\n",
            "Original:  ভালো হয়ে যাও নোবেল!! \n",
            "Cleaned: ভালো হয়ে যাও নোবেল   \n",
            " Socialacceptance:--  No \n",
            "\n",
            "Original:  আজকের গর্জন অনেক সুন্দর হয়েছে \n",
            "Cleaned: আজকের গর্জন অনেক সুন্দর হয়েছে \n",
            " Socialacceptance:--  No \n",
            "\n",
            "Original:  আবার বলাম মাহি ভালো হয়ে যাও \n",
            "Cleaned: আবার বলাম মাহি ভালো হয়ে যাও \n",
            " Socialacceptance:--  No \n",
            "\n",
            "Original:  মিথিলা আপু এতো নার্ভাস কেনো?তাহসান কে তো অনেক সাবলীল লাগলো। ওর কথাবার্তা সব ক্লিয়ার কাট। তবে মিথিলার কথাবার্তা সবই জরিয়ে যাচ্ছিলো বারবার। \n",
            "Cleaned: মিথিলা আপু এতো নার্ভাস কেনো তাহসান কে তো অনেক সাবলীল লাগলো  ওর কথাবার্তা সব ক্লিয়ার কাট  তবে মিথিলার কথাবার্তা সবই জরিয়ে যাচ্ছিলো বারবার  \n",
            " Socialacceptance:--  No \n",
            "\n",
            "Original:  যেভাবে লোক ডাউন বলা হয়েছে তাতে করে লোক ডাউন টা কি এটাই মানুষ বুঝতে পারছে না। \n",
            "Cleaned: যেভাবে লোক ডাউন বলা হয়েছে তাতে করে লোক ডাউন টা কি এটাই মানুষ বুঝতে পারছে না  \n",
            " Socialacceptance:--  Yes \n",
            "\n"
          ]
        }
      ]
    },
    {
      "cell_type": "markdown",
      "metadata": {
        "id": "hPrg1wPCEydF"
      },
      "source": [
        "#Remove Low Length Data"
      ]
    },
    {
      "cell_type": "code",
      "metadata": {
        "id": "8JZZPNtRE4Hc",
        "colab": {
          "base_uri": "https://localhost:8080/"
        },
        "outputId": "cb737c94-c390-41be-8cbd-066f8f271f52"
      },
      "source": [
        "# Length of each Comments\n",
        "data['length'] = data['cleaned'].apply(lambda x:len(x.split()))\n",
        "# Remove the Comments with least words\n",
        "dataset = data.loc[data.length>2]\n",
        "dataset = dataset.reset_index(drop = True)\n",
        "print(\"After Cleaning:\",\"\\nRemoved {} Small Comments\".format(len(data)-len(dataset)),\n",
        "      \"\\nTotal Comments:\",len(dataset))"
      ],
      "execution_count": null,
      "outputs": [
        {
          "output_type": "stream",
          "name": "stdout",
          "text": [
            "After Cleaning: \n",
            "Removed 203 Small Comments \n",
            "Total Comments: 1799\n"
          ]
        }
      ]
    },
    {
      "cell_type": "markdown",
      "metadata": {
        "id": "IWcMzeMN4dm4"
      },
      "source": [
        "#Dataset Analysis"
      ]
    },
    {
      "cell_type": "code",
      "metadata": {
        "id": "D1z7CDlt4nl3",
        "colab": {
          "base_uri": "https://localhost:8080/"
        },
        "outputId": "0bffe428-8335-4706-d797-61f2ee767fb7"
      },
      "source": [
        "def data_summary(dataset):\n",
        "    \n",
        "    \"\"\"\n",
        "    This function will print the summary of the Comments and words distribution in the dataset. \n",
        "    \n",
        "    Args:\n",
        "        dataset: list of cleaned sentences   \n",
        "        \n",
        "    Returns:\n",
        "        Number of documnets per class: int \n",
        "        Number of words per class: int\n",
        "        Number of unique words per class: int\n",
        "    \"\"\"\n",
        "    documents = []\n",
        "    words = []\n",
        "    u_words = []\n",
        "    total_u_words = [word.strip().lower() for t in list(dataset.cleaned) for word in t.strip().split()]\n",
        "    class_label= [k for k,v in dataset.Social_acceptance.value_counts().to_dict().items()]\n",
        "  # find word list\n",
        "    for label in class_label: \n",
        "        word_list = [word.strip().lower() for t in list(dataset[dataset.Social_acceptance==label].cleaned) for word in t.strip().split()]\n",
        "        counts = dict()\n",
        "        for word in word_list:\n",
        "                counts[word] = counts.get(word, 0)+1\n",
        "        # sort the dictionary of word list  \n",
        "        ordered = sorted(counts.items(), key= lambda item: item[1],reverse = True)\n",
        "        # Documents per class\n",
        "        documents.append(len(list(dataset[dataset.Social_acceptance==label].cleaned)))\n",
        "        # Total Word per class\n",
        "        words.append(len(word_list))\n",
        "        # Unique words per class \n",
        "        u_words.append(len(np.unique(word_list)))\n",
        "       \n",
        "        print(\"\\nClass Name : \",label)\n",
        "        print(\"Number of Documents:{}\".format(len(list(dataset[dataset.Social_acceptance==label].cleaned))))  \n",
        "        print(\"Number of Words:{}\".format(len(word_list))) \n",
        "        print(\"Number of Unique Words:{}\".format(len(np.unique(word_list)))) \n",
        "        print(\"Most Frequent Words:\\n\")\n",
        "        for k,v in ordered[:10]:\n",
        "              print(\"{}\\t{}\".format(k,v))\n",
        "    print(\"Total Number of Unique Words:{}\".format(len(np.unique(total_u_words))))           \n",
        "   \n",
        "    return documents,words,u_words,class_label\n",
        "\n",
        "#call the fucntion\n",
        "documents,words,u_words,class_names = data_summary(dataset)    \n"
      ],
      "execution_count": null,
      "outputs": [
        {
          "output_type": "stream",
          "name": "stdout",
          "text": [
            "\n",
            "Class Name :  Yes\n",
            "Number of Documents:914\n",
            "Number of Words:18433\n",
            "Number of Unique Words:5320\n",
            "Most Frequent Words:\n",
            "\n",
            "না\t260\n",
            "আপনার\t182\n",
            "করে\t181\n",
            "এই\t170\n",
            "ও\t132\n",
            "আমার\t119\n",
            "আর\t116\n",
            "আমাদের\t114\n",
            "কি\t113\n",
            "জন্য\t113\n",
            "\n",
            "Class Name :  No\n",
            "Number of Documents:885\n",
            "Number of Words:10370\n",
            "Number of Unique Words:4089\n",
            "Most Frequent Words:\n",
            "\n",
            "না\t213\n",
            "করে\t102\n",
            "এই\t90\n",
            "কি\t88\n",
            "আর\t81\n",
            "ভাই\t63\n",
            "তো\t62\n",
            "একটা\t58\n",
            "তোমার\t58\n",
            "ভালো\t56\n",
            "Total Number of Unique Words:7867\n"
          ]
        }
      ]
    },
    {
      "cell_type": "markdown",
      "metadata": {
        "id": "o2R8rfbI5CDi"
      },
      "source": [
        "#Summary Visualization"
      ]
    },
    {
      "cell_type": "code",
      "metadata": {
        "id": "YiBBy7UM5F9G",
        "colab": {
          "base_uri": "https://localhost:8080/",
          "height": 437
        },
        "outputId": "d2992c7b-412f-4563-aff0-ed0b4508e102"
      },
      "source": [
        "data_matrix = pd.DataFrame({'Total Documents':documents,\n",
        "                            'Total Words':words,\n",
        "                            'Unique Words':u_words,\n",
        "                            'Class Names':class_names})\n",
        "df = pd.melt(data_matrix, id_vars=\"Class Names\", var_name=\"Social_acceptance\", value_name=\"Values\")\n",
        "plt.figure(figsize=(8, 6))\n",
        "ax = plt.subplot()\n",
        "\n",
        "sns.barplot(data=df,x='Class Names', y='Values' ,hue='Social_acceptance')\n",
        "ax.set_xlabel('Class Names') \n",
        "ax.set_title('Data Statistics')\n",
        "\n",
        "ax.xaxis.set_ticklabels(class_names, rotation=45);"
      ],
      "execution_count": null,
      "outputs": [
        {
          "output_type": "display_data",
          "data": {
            "image/png": "[encoded data removed]",
            "text/plain": [
              "<Figure size 576x432 with 1 Axes>"
            ]
          },
          "metadata": {}
        }
      ]
    },
    {
      "cell_type": "markdown",
      "metadata": {
        "id": "ffzR1D915ixn"
      },
      "source": [
        "#Comment Length Distribution"
      ]
    },
    {
      "cell_type": "code",
      "metadata": {
        "id": "HYKLhO9l5qZz",
        "colab": {
          "base_uri": "https://localhost:8080/",
          "height": 366
        },
        "outputId": "52bc0e15-ba07-489f-f20f-0ba65199b3ff"
      },
      "source": [
        "# Calculate the Review of each of the Review\n",
        "dataset['CommentLength'] = dataset.cleaned.apply(lambda x:len(x.split()))\n",
        "frequency = dict()\n",
        "for i in dataset.CommentLength:\n",
        "    frequency[i] = frequency.get(i, 0)+1\n",
        "\n",
        "plt.bar(frequency.keys(), frequency.values(), color =\"b\")\n",
        "plt.xlim(1, 20)\n",
        "# in this notbook color is not working but it should work.\n",
        "plt.xlabel('Length of the Comments')\n",
        "plt.ylabel('Frequency')\n",
        "plt.title('Length-Frequency Distribution')\n",
        "plt.show()  \n",
        "print(f\"Maximum Length of a Comment: {max(dataset.CommentLength)}\")\n",
        "print(f\"Minimum Length of a Comment: {min(dataset.CommentLength)}\")\n",
        "print(f\"Average Length of a Comment: {round(np.mean(dataset.CommentLength),0)}\")"
      ],
      "execution_count": null,
      "outputs": [
        {
          "output_type": "display_data",
          "data": {
            "image/png": "[encoded data removed]",
            "text/plain": [
              "<Figure size 432x288 with 1 Axes>"
            ]
          },
          "metadata": {}
        },
        {
          "output_type": "stream",
          "name": "stdout",
          "text": [
            "Maximum Length of a Comment: 542\n",
            "Minimum Length of a Comment: 3\n",
            "Average Length of a Comment: 16.0\n"
          ]
        }
      ]
    },
    {
      "cell_type": "markdown",
      "metadata": {
        "id": "Tm8jDENf68Nb"
      },
      "source": [
        "#Lable Encoding and Dataset Splitting"
      ]
    },
    {
      "cell_type": "code",
      "metadata": {
        "id": "rc8XlwfQa2Ms"
      },
      "source": [
        "# accepted = dataset[dataset.Social_acceptance == \"Yes\"]                  \n",
        "# not_accepted = dataset[dataset.Social_acceptance == \"No\"]\n",
        "# dataset = accepted.append(not_accepted,ignore_index=True)\n",
        "# dataset.Social_acceptance.value_counts()"
      ],
      "execution_count": null,
      "outputs": []
    },
    {
      "cell_type": "code",
      "metadata": {
        "id": "3Y8hYYbo_WKm"
      },
      "source": [
        "dataset['Social_acceptance'] = dataset['Social_acceptance'].astype(str)"
      ],
      "execution_count": null,
      "outputs": []
    },
    {
      "cell_type": "code",
      "metadata": {
        "colab": {
          "base_uri": "https://localhost:8080/",
          "height": 419
        },
        "id": "oIm87baAmH5x",
        "outputId": "a7eb2020-ca15-4eef-dfc7-876b8a795bc3"
      },
      "source": [
        "dataset"
      ],
      "execution_count": null,
      "outputs": [
        {
          "output_type": "execute_result",
          "data": {
            "text/html": [
              "<div>\n",
              "<style scoped>\n",
              "    .dataframe tbody tr th:only-of-type {\n",
              "        vertical-align: middle;\n",
              "    }\n",
              "\n",
              "    .dataframe tbody tr th {\n",
              "        vertical-align: top;\n",
              "    }\n",
              "\n",
              "    .dataframe thead th {\n",
              "        text-align: right;\n",
              "    }\n",
              "</style>\n",
              "<table border=\"1\" class=\"dataframe\">\n",
              "  <thead>\n",
              "    <tr style=\"text-align: right;\">\n",
              "      <th></th>\n",
              "      <th>No.</th>\n",
              "      <th>Social_acceptance</th>\n",
              "      <th>Comment</th>\n",
              "      <th>cleaned</th>\n",
              "      <th>length</th>\n",
              "      <th>CommentLength</th>\n",
              "    </tr>\n",
              "  </thead>\n",
              "  <tbody>\n",
              "    <tr>\n",
              "      <th>0</th>\n",
              "      <td>1</td>\n",
              "      <td>No</td>\n",
              "      <td>আবাল মার্কা সাংঘাতিক</td>\n",
              "      <td>আবাল মার্কা সাংঘাতিক</td>\n",
              "      <td>3</td>\n",
              "      <td>3</td>\n",
              "    </tr>\n",
              "    <tr>\n",
              "      <th>1</th>\n",
              "      <td>4</td>\n",
              "      <td>No</td>\n",
              "      <td>রেজিস্ট্রার একটা বলদের আতুরি।</td>\n",
              "      <td>রেজিস্ট্রার একটা বলদের আতুরি</td>\n",
              "      <td>4</td>\n",
              "      <td>4</td>\n",
              "    </tr>\n",
              "    <tr>\n",
              "      <th>2</th>\n",
              "      <td>5</td>\n",
              "      <td>No</td>\n",
              "      <td>প্রতিবন্ধী কোটার রেজিস্ট্রার, মাইন্ড তো করবেই।</td>\n",
              "      <td>প্রতিবন্ধী কোটার রেজিস্ট্রার  মাইন্ড তো করবেই</td>\n",
              "      <td>6</td>\n",
              "      <td>6</td>\n",
              "    </tr>\n",
              "    <tr>\n",
              "      <th>3</th>\n",
              "      <td>6</td>\n",
              "      <td>No</td>\n",
              "      <td>উনি কি বুকাসুদা</td>\n",
              "      <td>উনি কি বুকাসুদা</td>\n",
              "      <td>3</td>\n",
              "      <td>3</td>\n",
              "    </tr>\n",
              "    <tr>\n",
              "      <th>4</th>\n",
              "      <td>7</td>\n",
              "      <td>No</td>\n",
              "      <td>তুই শুধু ছাগল নাছাগলদের নেতা- ভানু</td>\n",
              "      <td>তুই শুধু ছাগল নাছাগলদের নেতা  ভানু</td>\n",
              "      <td>6</td>\n",
              "      <td>6</td>\n",
              "    </tr>\n",
              "    <tr>\n",
              "      <th>...</th>\n",
              "      <td>...</td>\n",
              "      <td>...</td>\n",
              "      <td>...</td>\n",
              "      <td>...</td>\n",
              "      <td>...</td>\n",
              "      <td>...</td>\n",
              "    </tr>\n",
              "    <tr>\n",
              "      <th>1794</th>\n",
              "      <td>3996</td>\n",
              "      <td>Yes</td>\n",
              "      <td>স্যার ইসলামি অর্থনীতি ব্যবস্থা সব কিছুর ভারসাম...</td>\n",
              "      <td>স্যার ইসলামি অর্থনীতি ব্যবস্থা সব কিছুর ভারসাম...</td>\n",
              "      <td>13</td>\n",
              "      <td>13</td>\n",
              "    </tr>\n",
              "    <tr>\n",
              "      <th>1795</th>\n",
              "      <td>3998</td>\n",
              "      <td>Yes</td>\n",
              "      <td>অন্যায়ভাবে ভালো থাকা</td>\n",
              "      <td>অন্যায়ভাবে ভালো থাকা</td>\n",
              "      <td>3</td>\n",
              "      <td>3</td>\n",
              "    </tr>\n",
              "    <tr>\n",
              "      <th>1796</th>\n",
              "      <td>3999</td>\n",
              "      <td>Yes</td>\n",
              "      <td>বিত্তবানদের তো শুধু চাই আর চাই। চাবেই না বা কে...</td>\n",
              "      <td>বিত্তবানদের তো শুধু চাই আর চাই  চাবেই না বা কে...</td>\n",
              "      <td>55</td>\n",
              "      <td>55</td>\n",
              "    </tr>\n",
              "    <tr>\n",
              "      <th>1797</th>\n",
              "      <td>4000</td>\n",
              "      <td>Yes</td>\n",
              "      <td>অসাধারণ লেখা ভাই সাব।</td>\n",
              "      <td>অসাধারণ লেখা ভাই সাব</td>\n",
              "      <td>4</td>\n",
              "      <td>4</td>\n",
              "    </tr>\n",
              "    <tr>\n",
              "      <th>1798</th>\n",
              "      <td>4001</td>\n",
              "      <td>Yes</td>\n",
              "      <td>আহ, আজকে যদি পুজিবাদি সমাজের পরিবর্তে যাকাতের ...</td>\n",
              "      <td>আহ  আজকে যদি পুজিবাদি সমাজের পরিবর্তে যাকাতের ...</td>\n",
              "      <td>17</td>\n",
              "      <td>17</td>\n",
              "    </tr>\n",
              "  </tbody>\n",
              "</table>\n",
              "<p>1799 rows × 6 columns</p>\n",
              "</div>"
            ],
            "text/plain": [
              "       No. Social_acceptance  ... length CommentLength\n",
              "0        1                No  ...      3             3\n",
              "1        4                No  ...      4             4\n",
              "2        5                No  ...      6             6\n",
              "3        6                No  ...      3             3\n",
              "4        7                No  ...      6             6\n",
              "...    ...               ...  ...    ...           ...\n",
              "1794  3996               Yes  ...     13            13\n",
              "1795  3998               Yes  ...      3             3\n",
              "1796  3999               Yes  ...     55            55\n",
              "1797  4000               Yes  ...      4             4\n",
              "1798  4001               Yes  ...     17            17\n",
              "\n",
              "[1799 rows x 6 columns]"
            ]
          },
          "metadata": {},
          "execution_count": 12
        }
      ]
    },
    {
      "cell_type": "code",
      "metadata": {
        "colab": {
          "base_uri": "https://localhost:8080/"
        },
        "id": "gOYkFrfNAJpv",
        "outputId": "9154a8c7-d1b5-41ff-fc80-164b9c099705"
      },
      "source": [
        "data.isnull().count()"
      ],
      "execution_count": null,
      "outputs": [
        {
          "output_type": "execute_result",
          "data": {
            "text/plain": [
              "No.                  2002\n",
              "Social_acceptance    2002\n",
              "Comment              2002\n",
              "cleaned              2002\n",
              "length               2002\n",
              "dtype: int64"
            ]
          },
          "metadata": {},
          "execution_count": 13
        }
      ]
    },
    {
      "cell_type": "code",
      "metadata": {
        "id": "nn36LUQH7AI_"
      },
      "source": [
        "                                      #==================================================\n",
        "                                       ################# Label Encoding Function #########\n",
        "                                       #==================================================\n",
        "\n",
        "def label_encoding(Social_acceptance,bool):\n",
        "    \"\"\"\n",
        "    This function will return the encoded labels in array format. \n",
        "    \n",
        "    Args:\n",
        "        Social_acceptance: series of class names(str)\n",
        "        bool: boolean (True or False)\n",
        "        \n",
        "    Returns:\n",
        "        labels: numpy array \n",
        "    \"\"\"\n",
        "    le = LabelEncoder()\n",
        "    le.fit(Social_acceptance)\n",
        "    encoded_labels = le.transform(Social_acceptance)\n",
        "    labels = np.array(encoded_labels) # Converting into numpy array\n",
        "    class_names =le.classes_ ## Define the class names again\n",
        "    if bool == True:\n",
        "        print(\"\\n\\t\\t\\t===== Label Encoding =====\",\"\\nClass Names:-->\",le.classes_)\n",
        "        for i in sample_data:\n",
        "          print(Social_acceptance[i],' ', encoded_labels[i],'\\n')\n",
        "\n",
        "    return labels\n",
        "\n",
        "\n"
      ],
      "execution_count": null,
      "outputs": []
    },
    {
      "cell_type": "code",
      "metadata": {
        "id": "bDoeCWymdvQX",
        "colab": {
          "base_uri": "https://localhost:8080/"
        },
        "outputId": "2afef1f7-c2ec-42fe-cab6-01915f9a8f7e"
      },
      "source": [
        "labels = label_encoding(dataset.Social_acceptance,True)"
      ],
      "execution_count": null,
      "outputs": [
        {
          "output_type": "stream",
          "name": "stdout",
          "text": [
            "\n",
            "\t\t\t===== Label Encoding ===== \n",
            "Class Names:--> ['No' 'Yes']\n",
            "No   0 \n",
            "\n",
            "No   0 \n",
            "\n",
            "No   0 \n",
            "\n",
            "No   0 \n",
            "\n",
            "No   0 \n",
            "\n",
            "No   0 \n",
            "\n",
            "No   0 \n",
            "\n",
            "No   0 \n",
            "\n",
            "No   0 \n",
            "\n",
            "No   0 \n",
            "\n",
            "No   0 \n",
            "\n",
            "No   0 \n",
            "\n",
            "No   0 \n",
            "\n",
            "No   0 \n",
            "\n",
            "Yes   1 \n",
            "\n"
          ]
        }
      ]
    },
    {
      "cell_type": "code",
      "metadata": {
        "colab": {
          "base_uri": "https://localhost:8080/"
        },
        "id": "qVCa5DlGD7y3",
        "outputId": "5c73f55b-fcf9-4010-8609-00b452a9d493"
      },
      "source": [
        "labels"
      ],
      "execution_count": null,
      "outputs": [
        {
          "output_type": "execute_result",
          "data": {
            "text/plain": [
              "array([0, 0, 0, ..., 1, 1, 1])"
            ]
          },
          "metadata": {},
          "execution_count": 16
        }
      ]
    },
    {
      "cell_type": "code",
      "metadata": {
        "id": "_PxQr0KtawxW"
      },
      "source": [
        "\n",
        "                           #===========================================================\n",
        "                           ################# Dataset Splitting Function ###############\n",
        "                           #=========================================================== \n",
        "\n",
        "def dataset_split(Comments,Social_acceptance):\n",
        "    \"\"\"\n",
        "    This function will return the splitted (90%-10%-10%) feature vector . \n",
        "    \n",
        "    Args:\n",
        "        Comments: sequenced Comments \n",
        "        Social_acceptance: encoded lables (array) \n",
        "        \n",
        "    Returns:\n",
        "        X_train: training data \n",
        "        X_valid: validation data\n",
        "        X_test : testing feature vector \n",
        "        y_train: training encoded labels (array) \n",
        "        y_valid: training encoded labels (array) \n",
        "        y_test : testing encoded labels (array) \n",
        "    \"\"\"\n",
        "\n",
        "    X,X_test,y,y_test = train_test_split(Comments,Social_acceptance,train_size = 0.9,\n",
        "                                                  test_size = 0.1,random_state =0)\n",
        "    X_train,X_valid,y_train,y_valid = train_test_split(X,y,train_size = 0.8,\n",
        "                                                  test_size = 0.2,random_state =0)\n",
        "    print(color.BOLD+\"\\nDataset Distribution:\\n\"+color.END)\n",
        "    print(\"\\tSet Name\",\"\\t\\tSize\")\n",
        "    print(\"\\t========\\t\\t======\")\n",
        "\n",
        "    print(\"\\tFull\\t\\t\\t\",len(Comments),\n",
        "        \"\\n\\tTraining\\t\\t\",len(X_train),\n",
        "        \"\\n\\tTest\\t\\t\\t\",len(X_test),\n",
        "        \"\\n\\tValidation\\t\\t\",len(X_valid))\n",
        "  \n",
        "    return X_train,X_valid,X_test,y_train,y_valid,y_test\n"
      ],
      "execution_count": null,
      "outputs": []
    },
    {
      "cell_type": "code",
      "metadata": {
        "id": "CGxZ2er08gPr",
        "colab": {
          "base_uri": "https://localhost:8080/"
        },
        "outputId": "244b6082-402e-43f6-86ba-f9924dbb8490"
      },
      "source": [
        "X_train,X_valid,X_test,y_train,y_valid,y_test = dataset_split(dataset.Comment,labels)"
      ],
      "execution_count": null,
      "outputs": [
        {
          "output_type": "stream",
          "name": "stdout",
          "text": [
            "\u001b[1m\n",
            "Dataset Distribution:\n",
            "\u001b[0m\n",
            "\tSet Name \t\tSize\n",
            "\t========\t\t======\n",
            "\tFull\t\t\t 1799 \n",
            "\tTraining\t\t 1295 \n",
            "\tTest\t\t\t 180 \n",
            "\tValidation\t\t 324\n"
          ]
        }
      ]
    },
    {
      "cell_type": "markdown",
      "metadata": {
        "id": "NQOHalFi9iMa"
      },
      "source": [
        "#Tokenization"
      ]
    },
    {
      "cell_type": "code",
      "metadata": {
        "id": "viKvAq5T9k37"
      },
      "source": [
        "vocab_size = 50000\n",
        "embedding_dim = 1024\n",
        "max_length = 542\n",
        "trunc_type='post'\n",
        "padding_type='post'\n",
        "oov_tok = \"<OOV>\"\n",
        "\n",
        "def padded_Comments(original,encoded,padded):\n",
        "  '''\n",
        "  print the samples padded Comments\n",
        "  '''\n",
        "  print(color.BOLD+\"\\n\\t\\t\\t====== Encoded Sequences ======\"+color.END,\"\\n\")  \n",
        "  print(original,\"\\n\",encoded) \n",
        "  print(color.BOLD+\"\\n\\t\\t\\t====== Paded Sequences ======\\n\"+color.END,original,\"\\n\",padded)  "
      ],
      "execution_count": null,
      "outputs": []
    },
    {
      "cell_type": "code",
      "metadata": {
        "id": "b292GeAZ9uYE"
      },
      "source": [
        "# Train Data Tokenization\n",
        "tokenizer = Tokenizer(num_words = vocab_size, oov_token=oov_tok)\n",
        "tokenizer.fit_on_texts(X_train)\n",
        "word_index = tokenizer.word_index\n",
        "train_sequences = tokenizer.texts_to_sequences(X_train)\n",
        "train_padded = pad_sequences(train_sequences, padding=padding_type, maxlen=max_length)\n"
      ],
      "execution_count": null,
      "outputs": []
    },
    {
      "cell_type": "code",
      "metadata": {
        "id": "2iDecox7-b0I",
        "colab": {
          "base_uri": "https://localhost:8080/"
        },
        "outputId": "3e3a8171-e5c0-40dc-aaed-51bda0d282ab"
      },
      "source": [
        " #============================== Tokenizer Info =================================\n",
        "(word_counts,word_docs,word_index,document_count) = (tokenizer.word_counts,\n",
        "                                                       tokenizer.word_docs,\n",
        "                                                       tokenizer.word_index,\n",
        "                                                       tokenizer.document_count)\n",
        "def tokenizer_info(mylist,bool):\n",
        "  ordered = sorted(mylist.items(), key= lambda item: item[1],reverse = bool)\n",
        "  for w,c in ordered[:10]:\n",
        "    print(w,\"\\t\",c)\n",
        "  #=============================== Print all the information =========================\n",
        "print(color.BOLD+\"\\t\\t\\t====== Tokenizer Info ======\"+color.END)   \n",
        "print(\"Words --> Counts:\")\n",
        "tokenizer_info(word_counts,bool =True )\n",
        "print(\"\\nWords --> Documents:\")\n",
        "tokenizer_info(word_docs,bool =True )\n",
        "print(\"\\nWords --> Index:\")\n",
        "tokenizer_info(word_index,bool =True )    \n",
        "print(\"\\nTotal Documents -->\",document_count)\n",
        "print(f\"Found {len(word_index)} unique tokens\")"
      ],
      "execution_count": null,
      "outputs": [
        {
          "output_type": "stream",
          "name": "stdout",
          "text": [
            "\u001b[1m\t\t\t====== Tokenizer Info ======\u001b[0m\n",
            "Words --> Counts:\n",
            "না \t 277\n",
            "করে \t 195\n",
            "এই \t 181\n",
            "কি \t 160\n",
            "আপনার \t 156\n",
            "আর \t 142\n",
            "ও \t 122\n",
            "ভাই \t 117\n",
            "আমার \t 115\n",
            "আমি \t 110\n",
            "\n",
            "Words --> Documents:\n",
            "না \t 202\n",
            "কি \t 129\n",
            "করে \t 128\n",
            "আপনার \t 127\n",
            "এই \t 123\n",
            "আর \t 119\n",
            "ভাই \t 89\n",
            "ও \t 88\n",
            "আমার \t 85\n",
            "আমি \t 83\n",
            "\n",
            "Words --> Index:\n",
            "দ্বারা \t 6874\n",
            "ট্রলার। \t 6873\n",
            "সবগোলাই \t 6872\n",
            "।এখন \t 6871\n",
            "ফলোয়ার \t 6870\n",
            "প্রথমে \t 6869\n",
            "স্বচ্ছ \t 6868\n",
            "চাইলেই \t 6867\n",
            "আরেকজন \t 6866\n",
            "ওয়াস্তে \t 6865\n",
            "\n",
            "Total Documents --> 1295\n",
            "Found 6874 unique tokens\n"
          ]
        }
      ]
    },
    {
      "cell_type": "code",
      "metadata": {
        "id": "0zUwx2Mk-9aF",
        "colab": {
          "base_uri": "https://localhost:8080/"
        },
        "outputId": "6e764bde-9a59-4b13-9951-154b9b2cefd4"
      },
      "source": [
        "padded_Comments(X_train,train_sequences[10],train_padded[10]) "
      ],
      "execution_count": null,
      "outputs": [
        {
          "output_type": "stream",
          "name": "stdout",
          "text": [
            "\u001b[1m\n",
            "\t\t\t====== Encoded Sequences ======\u001b[0m \n",
            "\n",
            "904                                 এ জ্বালা রাখি কোথায়.?\n",
            "701     কিরে ভাই আমি তো তোমার ডিভোর্স করাইনি এমন ভাব ন...\n",
            "646     ম্যাকাপ ছাড়া একটা পিক আপলোড কর বোইন!তার পর দেখ...\n",
            "999     আপনার পাশে লোকজন যে ভাবে ভিড় করছে মনে হয় না বা...\n",
            "1074    জনগণের ভোটাধিকার প্রয়োগ করার সুযোগ দিন। যেই দ...\n",
            "                              ...                        \n",
            "1079    এতো বড় ঋষির রাতের ভোটে এম্পি হতে হয়ে।কি আপচুস,...\n",
            "1069    এসব মোটিভেশন মার্কা কথা আপনার মুখে মানায় না। ...\n",
            "1410                         আমরা করনার চাইতেও শক্তিশালী।\n",
            "1388    প্রথমে ভাবছিলাম এত ফলোয়ার ।এখন দেখছি সবগোলাই ট...\n",
            "613                                আপনার দ্বারা সবই সম্ভব\n",
            "Name: Comment, Length: 1295, dtype: object \n",
            " [2462, 2463, 1025, 1450, 119]\n",
            "\u001b[1m\n",
            "\t\t\t====== Paded Sequences ======\n",
            "\u001b[0m 904                                 এ জ্বালা রাখি কোথায়.?\n",
            "701     কিরে ভাই আমি তো তোমার ডিভোর্স করাইনি এমন ভাব ন...\n",
            "646     ম্যাকাপ ছাড়া একটা পিক আপলোড কর বোইন!তার পর দেখ...\n",
            "999     আপনার পাশে লোকজন যে ভাবে ভিড় করছে মনে হয় না বা...\n",
            "1074    জনগণের ভোটাধিকার প্রয়োগ করার সুযোগ দিন। যেই দ...\n",
            "                              ...                        \n",
            "1079    এতো বড় ঋষির রাতের ভোটে এম্পি হতে হয়ে।কি আপচুস,...\n",
            "1069    এসব মোটিভেশন মার্কা কথা আপনার মুখে মানায় না। ...\n",
            "1410                         আমরা করনার চাইতেও শক্তিশালী।\n",
            "1388    প্রথমে ভাবছিলাম এত ফলোয়ার ।এখন দেখছি সবগোলাই ট...\n",
            "613                                আপনার দ্বারা সবই সম্ভব\n",
            "Name: Comment, Length: 1295, dtype: object \n",
            " [2462 2463 1025 1450  119    0    0    0    0    0    0    0    0    0\n",
            "    0    0    0    0    0    0    0    0    0    0    0    0    0    0\n",
            "    0    0    0    0    0    0    0    0    0    0    0    0    0    0\n",
            "    0    0    0    0    0    0    0    0    0    0    0    0    0    0\n",
            "    0    0    0    0    0    0    0    0    0    0    0    0    0    0\n",
            "    0    0    0    0    0    0    0    0    0    0    0    0    0    0\n",
            "    0    0    0    0    0    0    0    0    0    0    0    0    0    0\n",
            "    0    0    0    0    0    0    0    0    0    0    0    0    0    0\n",
            "    0    0    0    0    0    0    0    0    0    0    0    0    0    0\n",
            "    0    0    0    0    0    0    0    0    0    0    0    0    0    0\n",
            "    0    0    0    0    0    0    0    0    0    0    0    0    0    0\n",
            "    0    0    0    0    0    0    0    0    0    0    0    0    0    0\n",
            "    0    0    0    0    0    0    0    0    0    0    0    0    0    0\n",
            "    0    0    0    0    0    0    0    0    0    0    0    0    0    0\n",
            "    0    0    0    0    0    0    0    0    0    0    0    0    0    0\n",
            "    0    0    0    0    0    0    0    0    0    0    0    0    0    0\n",
            "    0    0    0    0    0    0    0    0    0    0    0    0    0    0\n",
            "    0    0    0    0    0    0    0    0    0    0    0    0    0    0\n",
            "    0    0    0    0    0    0    0    0    0    0    0    0    0    0\n",
            "    0    0    0    0    0    0    0    0    0    0    0    0    0    0\n",
            "    0    0    0    0    0    0    0    0    0    0    0    0    0    0\n",
            "    0    0    0    0    0    0    0    0    0    0    0    0    0    0\n",
            "    0    0    0    0    0    0    0    0    0    0    0    0    0    0\n",
            "    0    0    0    0    0    0    0    0    0    0    0    0    0    0\n",
            "    0    0    0    0    0    0    0    0    0    0    0    0    0    0\n",
            "    0    0    0    0    0    0    0    0    0    0    0    0    0    0\n",
            "    0    0    0    0    0    0    0    0    0    0    0    0    0    0\n",
            "    0    0    0    0    0    0    0    0    0    0    0    0    0    0\n",
            "    0    0    0    0    0    0    0    0    0    0    0    0    0    0\n",
            "    0    0    0    0    0    0    0    0    0    0    0    0    0    0\n",
            "    0    0    0    0    0    0    0    0    0    0    0    0    0    0\n",
            "    0    0    0    0    0    0    0    0    0    0    0    0    0    0\n",
            "    0    0    0    0    0    0    0    0    0    0    0    0    0    0\n",
            "    0    0    0    0    0    0    0    0    0    0    0    0    0    0\n",
            "    0    0    0    0    0    0    0    0    0    0    0    0    0    0\n",
            "    0    0    0    0    0    0    0    0    0    0    0    0    0    0\n",
            "    0    0    0    0    0    0    0    0    0    0    0    0    0    0\n",
            "    0    0    0    0    0    0    0    0    0    0    0    0    0    0\n",
            "    0    0    0    0    0    0    0    0    0    0]\n"
          ]
        }
      ]
    },
    {
      "cell_type": "code",
      "metadata": {
        "id": "FHONzUstCPfd",
        "colab": {
          "base_uri": "https://localhost:8080/"
        },
        "outputId": "62b99a09-fcf2-4b01-9fa5-0a825b4ef7e3"
      },
      "source": [
        "# Validation Data Tokenization\n",
        "validation_sequences = tokenizer.texts_to_sequences(X_valid)\n",
        "validation_padded = pad_sequences(validation_sequences, padding=padding_type , maxlen=max_length)\n",
        "padded_Comments(X_valid,validation_sequences[1],validation_padded[1]) \n"
      ],
      "execution_count": null,
      "outputs": [
        {
          "output_type": "stream",
          "name": "stdout",
          "text": [
            "\u001b[1m\n",
            "\t\t\t====== Encoded Sequences ======\u001b[0m \n",
            "\n",
            "944     সচেতনার অভাবে আমরা বড় কোন দুর্ঘটনার অংশ হয়ে যে...\n",
            "1279           আল্লাহ আপনাকে আরো ভাল কাজে এগিয়ে নিয়ে যাক।\n",
            "951     ১৬৭ টি সেদ্ধ ডিমের দাম ১৬৭*১০= ১৬৭০৳।সরকারের অ...\n",
            "561     আগে জানতাম ও দেখতাম মেয়েরা কমপিটিশন দিয়া ছেলেদ...\n",
            "1052                        উফফ,,,,,দীপু আপার হাসিটা!!!!!\n",
            "                              ...                        \n",
            "914                                       বাল ফেলে দিয়েছে\n",
            "1528                         তারেক ভাইয়ের জন্য দোয়া রয়েছে\n",
            "645                                 সেলিবেটি অকলের খাইছলত\n",
            "70      ধীমান ঘোষ নিজেও ছাত্রলীগ।অকারণে ধর্মের নাম টেন...\n",
            "728     হেলেনা জাহাংগীর আপনি বেনজির এবং হাসিনাকে তেল ম...\n",
            "Name: Comment, Length: 324, dtype: object \n",
            " [82, 40, 133, 158, 432, 258, 41, 1]\n",
            "\u001b[1m\n",
            "\t\t\t====== Paded Sequences ======\n",
            "\u001b[0m 944     সচেতনার অভাবে আমরা বড় কোন দুর্ঘটনার অংশ হয়ে যে...\n",
            "1279           আল্লাহ আপনাকে আরো ভাল কাজে এগিয়ে নিয়ে যাক।\n",
            "951     ১৬৭ টি সেদ্ধ ডিমের দাম ১৬৭*১০= ১৬৭০৳।সরকারের অ...\n",
            "561     আগে জানতাম ও দেখতাম মেয়েরা কমপিটিশন দিয়া ছেলেদ...\n",
            "1052                        উফফ,,,,,দীপু আপার হাসিটা!!!!!\n",
            "                              ...                        \n",
            "914                                       বাল ফেলে দিয়েছে\n",
            "1528                         তারেক ভাইয়ের জন্য দোয়া রয়েছে\n",
            "645                                 সেলিবেটি অকলের খাইছলত\n",
            "70      ধীমান ঘোষ নিজেও ছাত্রলীগ।অকারণে ধর্মের নাম টেন...\n",
            "728     হেলেনা জাহাংগীর আপনি বেনজির এবং হাসিনাকে তেল ম...\n",
            "Name: Comment, Length: 324, dtype: object \n",
            " [ 82  40 133 158 432 258  41   1   0   0   0   0   0   0   0   0   0   0\n",
            "   0   0   0   0   0   0   0   0   0   0   0   0   0   0   0   0   0   0\n",
            "   0   0   0   0   0   0   0   0   0   0   0   0   0   0   0   0   0   0\n",
            "   0   0   0   0   0   0   0   0   0   0   0   0   0   0   0   0   0   0\n",
            "   0   0   0   0   0   0   0   0   0   0   0   0   0   0   0   0   0   0\n",
            "   0   0   0   0   0   0   0   0   0   0   0   0   0   0   0   0   0   0\n",
            "   0   0   0   0   0   0   0   0   0   0   0   0   0   0   0   0   0   0\n",
            "   0   0   0   0   0   0   0   0   0   0   0   0   0   0   0   0   0   0\n",
            "   0   0   0   0   0   0   0   0   0   0   0   0   0   0   0   0   0   0\n",
            "   0   0   0   0   0   0   0   0   0   0   0   0   0   0   0   0   0   0\n",
            "   0   0   0   0   0   0   0   0   0   0   0   0   0   0   0   0   0   0\n",
            "   0   0   0   0   0   0   0   0   0   0   0   0   0   0   0   0   0   0\n",
            "   0   0   0   0   0   0   0   0   0   0   0   0   0   0   0   0   0   0\n",
            "   0   0   0   0   0   0   0   0   0   0   0   0   0   0   0   0   0   0\n",
            "   0   0   0   0   0   0   0   0   0   0   0   0   0   0   0   0   0   0\n",
            "   0   0   0   0   0   0   0   0   0   0   0   0   0   0   0   0   0   0\n",
            "   0   0   0   0   0   0   0   0   0   0   0   0   0   0   0   0   0   0\n",
            "   0   0   0   0   0   0   0   0   0   0   0   0   0   0   0   0   0   0\n",
            "   0   0   0   0   0   0   0   0   0   0   0   0   0   0   0   0   0   0\n",
            "   0   0   0   0   0   0   0   0   0   0   0   0   0   0   0   0   0   0\n",
            "   0   0   0   0   0   0   0   0   0   0   0   0   0   0   0   0   0   0\n",
            "   0   0   0   0   0   0   0   0   0   0   0   0   0   0   0   0   0   0\n",
            "   0   0   0   0   0   0   0   0   0   0   0   0   0   0   0   0   0   0\n",
            "   0   0   0   0   0   0   0   0   0   0   0   0   0   0   0   0   0   0\n",
            "   0   0   0   0   0   0   0   0   0   0   0   0   0   0   0   0   0   0\n",
            "   0   0   0   0   0   0   0   0   0   0   0   0   0   0   0   0   0   0\n",
            "   0   0   0   0   0   0   0   0   0   0   0   0   0   0   0   0   0   0\n",
            "   0   0   0   0   0   0   0   0   0   0   0   0   0   0   0   0   0   0\n",
            "   0   0   0   0   0   0   0   0   0   0   0   0   0   0   0   0   0   0\n",
            "   0   0   0   0   0   0   0   0   0   0   0   0   0   0   0   0   0   0\n",
            "   0   0]\n"
          ]
        }
      ]
    },
    {
      "cell_type": "code",
      "metadata": {
        "id": "-FQT_IuTBocX",
        "colab": {
          "base_uri": "https://localhost:8080/"
        },
        "outputId": "6cda96f4-d429-41ee-f20e-1494ec33429c"
      },
      "source": [
        "# Test Data Tokenization\n",
        "test_sequences = tokenizer.texts_to_sequences(X_test)\n",
        "test_padded = pad_sequences(test_sequences, padding=padding_type , maxlen=max_length)\n",
        "padded_Comments(X_test,test_sequences[100],test_padded[100]) "
      ],
      "execution_count": null,
      "outputs": [
        {
          "output_type": "stream",
          "name": "stdout",
          "text": [
            "\u001b[1m\n",
            "\t\t\t====== Encoded Sequences ======\u001b[0m \n",
            "\n",
            "597      মূর্খরা সবসময় নেতিবাচক কমেন্ট করে এটাই স্বাভাবিক\n",
            "831     যত টেকনিক আছে ব্যাবহার কর কিন্তু হা হা রিয়েক্ট...\n",
            "1174    ফাবি আইয়ি আলা ই রাব্বিকুম মাতু কাজ্জীবান অর্থ ...\n",
            "467     ক্যেমরা ম্যান তোমার পসংসা না করে পারলাম না তুম...\n",
            "1721    বাংলাদেশীদের মধ্যে এর প্রবনতা অনেক বেশি,যেটা খ...\n",
            "                              ...                        \n",
            "1730    সবাই যদি আপনার মতো এসির নিজে বসে অফিস করতো তাহ...\n",
            "853     তুমিও মজা পাইছ,,আমিও মজা পাইছি,, আপাতত নিরব থাকো।\n",
            "1188    সুবহানাল্লাহ অসাধারণ একটা অায়াত নিয়ে পোস্ট দেও...\n",
            "1238    ভাই বর্তমান সময়ে একজন জনপ্রিয় আলেম আবু ত্বহা...\n",
            "1593                            নাটোর নলডাঙ্গা পৌর বিএনপি\n",
            "Name: Comment, Length: 180, dtype: object \n",
            " [433, 4055, 717, 1, 631, 132, 1218, 1, 316, 80, 1, 1599, 428]\n",
            "\u001b[1m\n",
            "\t\t\t====== Paded Sequences ======\n",
            "\u001b[0m 597      মূর্খরা সবসময় নেতিবাচক কমেন্ট করে এটাই স্বাভাবিক\n",
            "831     যত টেকনিক আছে ব্যাবহার কর কিন্তু হা হা রিয়েক্ট...\n",
            "1174    ফাবি আইয়ি আলা ই রাব্বিকুম মাতু কাজ্জীবান অর্থ ...\n",
            "467     ক্যেমরা ম্যান তোমার পসংসা না করে পারলাম না তুম...\n",
            "1721    বাংলাদেশীদের মধ্যে এর প্রবনতা অনেক বেশি,যেটা খ...\n",
            "                              ...                        \n",
            "1730    সবাই যদি আপনার মতো এসির নিজে বসে অফিস করতো তাহ...\n",
            "853     তুমিও মজা পাইছ,,আমিও মজা পাইছি,, আপাতত নিরব থাকো।\n",
            "1188    সুবহানাল্লাহ অসাধারণ একটা অায়াত নিয়ে পোস্ট দেও...\n",
            "1238    ভাই বর্তমান সময়ে একজন জনপ্রিয় আলেম আবু ত্বহা...\n",
            "1593                            নাটোর নলডাঙ্গা পৌর বিএনপি\n",
            "Name: Comment, Length: 180, dtype: object \n",
            " [ 433 4055  717    1  631  132 1218    1  316   80    1 1599  428    0\n",
            "    0    0    0    0    0    0    0    0    0    0    0    0    0    0\n",
            "    0    0    0    0    0    0    0    0    0    0    0    0    0    0\n",
            "    0    0    0    0    0    0    0    0    0    0    0    0    0    0\n",
            "    0    0    0    0    0    0    0    0    0    0    0    0    0    0\n",
            "    0    0    0    0    0    0    0    0    0    0    0    0    0    0\n",
            "    0    0    0    0    0    0    0    0    0    0    0    0    0    0\n",
            "    0    0    0    0    0    0    0    0    0    0    0    0    0    0\n",
            "    0    0    0    0    0    0    0    0    0    0    0    0    0    0\n",
            "    0    0    0    0    0    0    0    0    0    0    0    0    0    0\n",
            "    0    0    0    0    0    0    0    0    0    0    0    0    0    0\n",
            "    0    0    0    0    0    0    0    0    0    0    0    0    0    0\n",
            "    0    0    0    0    0    0    0    0    0    0    0    0    0    0\n",
            "    0    0    0    0    0    0    0    0    0    0    0    0    0    0\n",
            "    0    0    0    0    0    0    0    0    0    0    0    0    0    0\n",
            "    0    0    0    0    0    0    0    0    0    0    0    0    0    0\n",
            "    0    0    0    0    0    0    0    0    0    0    0    0    0    0\n",
            "    0    0    0    0    0    0    0    0    0    0    0    0    0    0\n",
            "    0    0    0    0    0    0    0    0    0    0    0    0    0    0\n",
            "    0    0    0    0    0    0    0    0    0    0    0    0    0    0\n",
            "    0    0    0    0    0    0    0    0    0    0    0    0    0    0\n",
            "    0    0    0    0    0    0    0    0    0    0    0    0    0    0\n",
            "    0    0    0    0    0    0    0    0    0    0    0    0    0    0\n",
            "    0    0    0    0    0    0    0    0    0    0    0    0    0    0\n",
            "    0    0    0    0    0    0    0    0    0    0    0    0    0    0\n",
            "    0    0    0    0    0    0    0    0    0    0    0    0    0    0\n",
            "    0    0    0    0    0    0    0    0    0    0    0    0    0    0\n",
            "    0    0    0    0    0    0    0    0    0    0    0    0    0    0\n",
            "    0    0    0    0    0    0    0    0    0    0    0    0    0    0\n",
            "    0    0    0    0    0    0    0    0    0    0    0    0    0    0\n",
            "    0    0    0    0    0    0    0    0    0    0    0    0    0    0\n",
            "    0    0    0    0    0    0    0    0    0    0    0    0    0    0\n",
            "    0    0    0    0    0    0    0    0    0    0    0    0    0    0\n",
            "    0    0    0    0    0    0    0    0    0    0    0    0    0    0\n",
            "    0    0    0    0    0    0    0    0    0    0    0    0    0    0\n",
            "    0    0    0    0    0    0    0    0    0    0    0    0    0    0\n",
            "    0    0    0    0    0    0    0    0    0    0    0    0    0    0\n",
            "    0    0    0    0    0    0    0    0    0    0    0    0    0    0\n",
            "    0    0    0    0    0    0    0    0    0    0]\n"
          ]
        }
      ]
    },
    {
      "cell_type": "code",
      "metadata": {
        "id": "shAO46yDGNV9"
      },
      "source": [
        "# Labels Tokenization\n",
        "#label_tokenizer = Tokenizer()\n",
        "#label_tokenizer.fit_on_texts(dataset.Social_acceptance)\n",
        "\n",
        "train_label_seq = y_train\n",
        "valid_label_seq = y_valid\n",
        "testing_label_seq = y_test\n",
        "\n",
        "#print(train_label_seq.shape)\n",
        "#print(valid_label_seq.shape)\n",
        "#print(testing_label_seq.shape)"
      ],
      "execution_count": null,
      "outputs": []
    },
    {
      "cell_type": "markdown",
      "metadata": {
        "id": "JCuh3RC3G9h3"
      },
      "source": [
        "#Model Defination"
      ]
    },
    {
      "cell_type": "code",
      "metadata": {
        "id": "TfdblA64HI8B",
        "colab": {
          "base_uri": "https://localhost:8080/"
        },
        "outputId": "5a52131e-29bd-48c3-8c15-c45f64a4379c"
      },
      "source": [
        "keras.backend.clear_session()\n",
        "accuracy_threshold = 0.97\n",
        "vocab_size = 57000\n",
        "embedding_dim = 64\n",
        "max_length = 21\n",
        "num_Social_acceptance = 6\n",
        "\n",
        "class myCallback(keras.callbacks.Callback):\n",
        "  def on_epoch_end(self, epoch, logs={}):\n",
        "      if(logs.get('accuracy')>accuracy_threshold):\n",
        "        print(\"\\nReached %2.2f%% accuracy so we will stop trianing\" % (accuracy_threshold*100))\n",
        "        self.model.stop_training = True\n",
        "\n",
        "acc_callback = myCallback()\n",
        "# Saved the Best Model\n",
        "filepath = path+\"Model.h5\"\n",
        "checkpoint = keras.callbacks.ModelCheckpoint(filepath, monitor='val_accuracy', verbose=2, save_best_only=True, \n",
        "                                             save_weights_only=False, mode='max')\n",
        "callback_list = [acc_callback, checkpoint] \n",
        "model = tf.keras.Sequential([\n",
        "    tf.keras.layers.Embedding(vocab_size, embedding_dim, input_length=max_length),\n",
        "    tf.keras.layers.Bidirectional(GRU(64,dropout=0.2)),\n",
        "    tf.keras.layers.Dense(24, activation='relu'),\n",
        "    tf.keras.layers.Flatten(),\n",
        "    tf.keras.layers.Dense(num_Social_acceptance, activation='softmax')\n",
        "])\n",
        "model.compile(loss='sparse_categorical_crossentropy',optimizer='adam',metrics=['accuracy'])\n",
        "model.summary()"
      ],
      "execution_count": null,
      "outputs": [
        {
          "output_type": "stream",
          "name": "stdout",
          "text": [
            "Model: \"sequential\"\n",
            "_________________________________________________________________\n",
            "Layer (type)                 Output Shape              Param #   \n",
            "=================================================================\n",
            "embedding (Embedding)        (None, 21, 64)            3648000   \n",
            "_________________________________________________________________\n",
            "bidirectional (Bidirectional (None, 128)               49920     \n",
            "_________________________________________________________________\n",
            "dense (Dense)                (None, 24)                3096      \n",
            "_________________________________________________________________\n",
            "flatten (Flatten)            (None, 24)                0         \n",
            "_________________________________________________________________\n",
            "dense_1 (Dense)              (None, 6)                 150       \n",
            "=================================================================\n",
            "Total params: 3,701,166\n",
            "Trainable params: 3,701,166\n",
            "Non-trainable params: 0\n",
            "_________________________________________________________________\n"
          ]
        }
      ]
    },
    {
      "cell_type": "code",
      "metadata": {
        "id": "gySWitpfHf33",
        "colab": {
          "base_uri": "https://localhost:8080/"
        },
        "outputId": "6252104f-3aef-4a08-e2f6-00e1c9cdf70f"
      },
      "source": [
        "num_epochs = 15\n",
        "batch = 30\n",
        "history = model.fit(train_padded, train_label_seq, \n",
        "                    epochs=num_epochs,\n",
        "                    batch_size = batch,\n",
        "                    validation_data=(validation_padded, valid_label_seq), \n",
        "                    verbose=1,\n",
        "                    callbacks = callback_list)"
      ],
      "execution_count": null,
      "outputs": [
        {
          "output_type": "stream",
          "name": "stdout",
          "text": [
            "Epoch 1/15\n",
            "WARNING:tensorflow:Model was constructed with shape (None, 21) for input KerasTensor(type_spec=TensorSpec(shape=(None, 21), dtype=tf.float32, name='embedding_input'), name='embedding_input', description=\"created by layer 'embedding_input'\"), but it was called on an input with incompatible shape (None, 542).\n",
            "WARNING:tensorflow:Model was constructed with shape (None, 21) for input KerasTensor(type_spec=TensorSpec(shape=(None, 21), dtype=tf.float32, name='embedding_input'), name='embedding_input', description=\"created by layer 'embedding_input'\"), but it was called on an input with incompatible shape (None, 542).\n",
            "44/44 [==============================] - ETA: 0s - loss: 1.0562 - accuracy: 0.5042WARNING:tensorflow:Model was constructed with shape (None, 21) for input KerasTensor(type_spec=TensorSpec(shape=(None, 21), dtype=tf.float32, name='embedding_input'), name='embedding_input', description=\"created by layer 'embedding_input'\"), but it was called on an input with incompatible shape (None, 542).\n",
            "44/44 [==============================] - 19s 231ms/step - loss: 1.0562 - accuracy: 0.5042 - val_loss: 0.7020 - val_accuracy: 0.5031\n",
            "\n",
            "Epoch 00001: val_accuracy improved from -inf to 0.50309, saving model to /content/drive/MyDrive/NLP ML/Model.h5\n",
            "Epoch 2/15\n",
            "44/44 [==============================] - 9s 213ms/step - loss: 0.6719 - accuracy: 0.5676 - val_loss: 0.6810 - val_accuracy: 0.4969\n",
            "\n",
            "Epoch 00002: val_accuracy did not improve from 0.50309\n",
            "Epoch 3/15\n",
            "44/44 [==============================] - 9s 214ms/step - loss: 0.4459 - accuracy: 0.8332 - val_loss: 0.6779 - val_accuracy: 0.6636\n",
            "\n",
            "Epoch 00003: val_accuracy improved from 0.50309 to 0.66358, saving model to /content/drive/MyDrive/NLP ML/Model.h5\n",
            "Epoch 4/15\n",
            "44/44 [==============================] - 9s 214ms/step - loss: 0.1464 - accuracy: 0.9490 - val_loss: 0.5634 - val_accuracy: 0.7346\n",
            "\n",
            "Epoch 00004: val_accuracy improved from 0.66358 to 0.73457, saving model to /content/drive/MyDrive/NLP ML/Model.h5\n",
            "Epoch 5/15\n",
            "44/44 [==============================] - 9s 214ms/step - loss: 0.0373 - accuracy: 0.9892 - val_loss: 0.6622 - val_accuracy: 0.7531\n",
            "\n",
            "Reached 97.00% accuracy so we will stop trianing\n",
            "\n",
            "Epoch 00005: val_accuracy improved from 0.73457 to 0.75309, saving model to /content/drive/MyDrive/NLP ML/Model.h5\n"
          ]
        }
      ]
    },
    {
      "cell_type": "markdown",
      "metadata": {
        "id": "ixYs6bQ4oBCH"
      },
      "source": [
        "##Confusion Matrix"
      ]
    },
    {
      "cell_type": "code",
      "metadata": {
        "id": "U5GRIl25qF_b",
        "colab": {
          "base_uri": "https://localhost:8080/",
          "height": 71
        },
        "outputId": "b9508d2b-f0d0-4793-a16c-016f488ba4b2"
      },
      "source": [
        "from sklearn.metrics import classification_report, confusion_matrix\n",
        "# load the Saved model from directory\n",
        "model = load_model(path+\"Model.h5\")\n",
        "predictions = model.predict(test_padded)\n",
        "y_pred = np.argmax(predictions, axis=1)\n",
        "\n",
        "cm = confusion_matrix(testing_label_seq, y_pred) \n",
        "\n",
        "# Transform to df for easier plotting\n",
        "cm_df = pd.DataFrame(cm,\n",
        "                     \n",
        "                     index = ['Yes' ,'No'], \n",
        "                     columns = ['Yes' ,'No'])\n",
        "\n",
        "plt.figure(figsize=(8,6))\n",
        "sns.heatmap(cm_df, annot=True,cmap=\"YlGnBu\", fmt='g')\n",
        "plt.title('GRU \\nAccuracy: {0:.2f}'.format(accuracy_score(testing_label_seq, y_pred)*100))\n",
        "plt.ylabel('True label')\n",
        "plt.xlabel('Predicted label')\n",
        "plt.xticks(rotation = 45)\n",
        "plt.yticks(rotation = 45)\n",
        "plt.show()"
      ],
      "execution_count": null,
      "outputs": [
        {
          "output_type": "stream",
          "name": "stdout",
          "text": [
            "WARNING:tensorflow:Model was constructed with shape (None, 21) for input KerasTensor(type_spec=TensorSpec(shape=(None, 21), dtype=tf.float32, name='embedding_input'), name='embedding_input', description=\"created by layer 'embedding_input'\"), but it was called on an input with incompatible shape (None, 542).\n"
          ]
        },
        {
          "output_type": "display_data",
          "data": {
            "image/png": "[encoded data removed]",
            "text/plain": [
              "<Figure size 576x432 with 2 Axes>"
            ]
          },
          "metadata": {}
        }
      ]
    },
    {
      "cell_type": "code",
      "metadata": {
        "colab": {
          "base_uri": "https://localhost:8080/"
        },
        "id": "2pC9ozddXP_K",
        "outputId": "a83f8dd9-3b1e-47e1-c3f2-5cad2b0d83f0"
      },
      "source": [
        "#DataFlair - Calculate the accuracy of our model\n",
        "accuracy=accuracy_score(testing_label_seq, y_pred)\n",
        "precision=precision_score(testing_label_seq, y_pred)\n",
        "recall=recall_score(testing_label_seq, y_pred)\n",
        "f1=f1_score(testing_label_seq, y_pred)\n",
        "\n",
        "#DataFlair - Print the accuracy\n",
        "print(\"Accuracy: {:.2f}%\".format(accuracy*100))\n",
        "print(\"precision: {:.2f}%\".format(precision*100))\n",
        "print(\"recall: {:.2f}%\".format(recall*100))\n",
        "print(\"f1: {:.2f}%\".format(f1*100))"
      ],
      "execution_count": null,
      "outputs": [
        {
          "output_type": "stream",
          "name": "stdout",
          "text": [
            "Accuracy: 78.89%\n",
            "precision: 79.07%\n",
            "recall: 77.27%\n",
            "f1: 78.16%\n"
          ]
        }
      ]
    },
    {
      "cell_type": "code",
      "metadata": {
        "id": "uwqgx-PsXP5H"
      },
      "source": [
        ""
      ],
      "execution_count": null,
      "outputs": []
    },
    {
      "cell_type": "code",
      "metadata": {
        "id": "kPBIm9VtXP0C"
      },
      "source": [
        ""
      ],
      "execution_count": null,
      "outputs": []
    },
    {
      "cell_type": "code",
      "metadata": {
        "id": "5EvlSSIEXPtk"
      },
      "source": [
        ""
      ],
      "execution_count": null,
      "outputs": []
    },
    {
      "cell_type": "code",
      "metadata": {
        "id": "D1-29-PBXNTx"
      },
      "source": [
        ""
      ],
      "execution_count": null,
      "outputs": []
    },
    {
      "cell_type": "code",
      "metadata": {
        "id": "kJMjeeagoG-9"
      },
      "source": [
        "# report = pd.DataFrame(classification_report(y_true = testing_label_seq, y_pred = y_pred, output_dict=True)).transpose()\n",
        "# report = report.rename(index={'0': 'Amusement','1':'IT','2':'International','3':'National','4':'Politics','5':'Sports'})\n",
        "# report[['precision','recall','f1-score']]=report[['precision','recall','f1-score']].apply(lambda x: round(x*100,2))\n",
        "# report"
      ],
      "execution_count": null,
      "outputs": []
    }
  ]
}